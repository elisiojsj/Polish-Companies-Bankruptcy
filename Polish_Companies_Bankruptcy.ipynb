{
 "cells": [
  {
   "cell_type": "markdown",
   "metadata": {},
   "source": [
    "# SVM on Polish Companies Bankruptcy dataset\n",
    "[Dataset link](https://archive.ics.uci.edu/ml/datasets/Polish+companies+bankruptcy+data)\n"
   ]
  },
  {
   "cell_type": "code",
   "execution_count": 1,
   "metadata": {},
   "outputs": [],
   "source": [
    "import numpy as np\n",
    "import pandas as pd\n",
    "import seaborn as sns\n",
    "import matplotlib.pyplot as plt\n",
    "from scipy.io import arff\n",
    "from sklearn import svm\n",
    "from sklearn.model_selection import train_test_split\n",
    "from sklearn import preprocessing\n",
    "from sklearn.metrics import plot_confusion_matrix\n",
    "from sklearn.utils import resample\n",
    "from itertools import combinations"
   ]
  },
  {
   "cell_type": "markdown",
   "metadata": {},
   "source": [
    "## Loading and exploring the data"
   ]
  },
  {
   "cell_type": "code",
   "execution_count": 2,
   "metadata": {},
   "outputs": [
    {
     "data": {
      "text/html": [
       "<div>\n",
       "<style scoped>\n",
       "    .dataframe tbody tr th:only-of-type {\n",
       "        vertical-align: middle;\n",
       "    }\n",
       "\n",
       "    .dataframe tbody tr th {\n",
       "        vertical-align: top;\n",
       "    }\n",
       "\n",
       "    .dataframe thead th {\n",
       "        text-align: right;\n",
       "    }\n",
       "</style>\n",
       "<table border=\"1\" class=\"dataframe\">\n",
       "  <thead>\n",
       "    <tr style=\"text-align: right;\">\n",
       "      <th></th>\n",
       "      <th>Attr1</th>\n",
       "      <th>Attr2</th>\n",
       "      <th>Attr3</th>\n",
       "      <th>Attr4</th>\n",
       "      <th>Attr5</th>\n",
       "      <th>Attr6</th>\n",
       "      <th>Attr7</th>\n",
       "      <th>Attr8</th>\n",
       "      <th>Attr9</th>\n",
       "      <th>Attr10</th>\n",
       "      <th>...</th>\n",
       "      <th>Attr56</th>\n",
       "      <th>Attr57</th>\n",
       "      <th>Attr58</th>\n",
       "      <th>Attr59</th>\n",
       "      <th>Attr60</th>\n",
       "      <th>Attr61</th>\n",
       "      <th>Attr62</th>\n",
       "      <th>Attr63</th>\n",
       "      <th>Attr64</th>\n",
       "      <th>class</th>\n",
       "    </tr>\n",
       "  </thead>\n",
       "  <tbody>\n",
       "    <tr>\n",
       "      <th>0</th>\n",
       "      <td>0.200550</td>\n",
       "      <td>0.37951</td>\n",
       "      <td>0.396410</td>\n",
       "      <td>2.04720</td>\n",
       "      <td>32.3510</td>\n",
       "      <td>0.38825</td>\n",
       "      <td>0.249760</td>\n",
       "      <td>1.33050</td>\n",
       "      <td>1.13890</td>\n",
       "      <td>0.504940</td>\n",
       "      <td>...</td>\n",
       "      <td>0.121960</td>\n",
       "      <td>0.397180</td>\n",
       "      <td>0.87804</td>\n",
       "      <td>0.001924</td>\n",
       "      <td>8.4160</td>\n",
       "      <td>5.1372</td>\n",
       "      <td>82.658</td>\n",
       "      <td>4.4158</td>\n",
       "      <td>7.42770</td>\n",
       "      <td>b'0'</td>\n",
       "    </tr>\n",
       "    <tr>\n",
       "      <th>1</th>\n",
       "      <td>0.209120</td>\n",
       "      <td>0.49988</td>\n",
       "      <td>0.472250</td>\n",
       "      <td>1.94470</td>\n",
       "      <td>14.7860</td>\n",
       "      <td>0.00000</td>\n",
       "      <td>0.258340</td>\n",
       "      <td>0.99601</td>\n",
       "      <td>1.69960</td>\n",
       "      <td>0.497880</td>\n",
       "      <td>...</td>\n",
       "      <td>0.121300</td>\n",
       "      <td>0.420020</td>\n",
       "      <td>0.85300</td>\n",
       "      <td>0.000000</td>\n",
       "      <td>4.1486</td>\n",
       "      <td>3.2732</td>\n",
       "      <td>107.350</td>\n",
       "      <td>3.4000</td>\n",
       "      <td>60.98700</td>\n",
       "      <td>b'0'</td>\n",
       "    </tr>\n",
       "    <tr>\n",
       "      <th>2</th>\n",
       "      <td>0.248660</td>\n",
       "      <td>0.69592</td>\n",
       "      <td>0.267130</td>\n",
       "      <td>1.55480</td>\n",
       "      <td>-1.1523</td>\n",
       "      <td>0.00000</td>\n",
       "      <td>0.309060</td>\n",
       "      <td>0.43695</td>\n",
       "      <td>1.30900</td>\n",
       "      <td>0.304080</td>\n",
       "      <td>...</td>\n",
       "      <td>0.241140</td>\n",
       "      <td>0.817740</td>\n",
       "      <td>0.76599</td>\n",
       "      <td>0.694840</td>\n",
       "      <td>4.9909</td>\n",
       "      <td>3.9510</td>\n",
       "      <td>134.270</td>\n",
       "      <td>2.7185</td>\n",
       "      <td>5.20780</td>\n",
       "      <td>b'0'</td>\n",
       "    </tr>\n",
       "    <tr>\n",
       "      <th>3</th>\n",
       "      <td>0.081483</td>\n",
       "      <td>0.30734</td>\n",
       "      <td>0.458790</td>\n",
       "      <td>2.49280</td>\n",
       "      <td>51.9520</td>\n",
       "      <td>0.14988</td>\n",
       "      <td>0.092704</td>\n",
       "      <td>1.86610</td>\n",
       "      <td>1.05710</td>\n",
       "      <td>0.573530</td>\n",
       "      <td>...</td>\n",
       "      <td>0.054015</td>\n",
       "      <td>0.142070</td>\n",
       "      <td>0.94598</td>\n",
       "      <td>0.000000</td>\n",
       "      <td>4.5746</td>\n",
       "      <td>3.6147</td>\n",
       "      <td>86.435</td>\n",
       "      <td>4.2228</td>\n",
       "      <td>5.54970</td>\n",
       "      <td>b'0'</td>\n",
       "    </tr>\n",
       "    <tr>\n",
       "      <th>4</th>\n",
       "      <td>0.187320</td>\n",
       "      <td>0.61323</td>\n",
       "      <td>0.229600</td>\n",
       "      <td>1.40630</td>\n",
       "      <td>-7.3128</td>\n",
       "      <td>0.18732</td>\n",
       "      <td>0.187320</td>\n",
       "      <td>0.63070</td>\n",
       "      <td>1.15590</td>\n",
       "      <td>0.386770</td>\n",
       "      <td>...</td>\n",
       "      <td>0.134850</td>\n",
       "      <td>0.484310</td>\n",
       "      <td>0.86515</td>\n",
       "      <td>0.124440</td>\n",
       "      <td>6.3985</td>\n",
       "      <td>4.3158</td>\n",
       "      <td>127.210</td>\n",
       "      <td>2.8692</td>\n",
       "      <td>7.89800</td>\n",
       "      <td>b'0'</td>\n",
       "    </tr>\n",
       "    <tr>\n",
       "      <th>...</th>\n",
       "      <td>...</td>\n",
       "      <td>...</td>\n",
       "      <td>...</td>\n",
       "      <td>...</td>\n",
       "      <td>...</td>\n",
       "      <td>...</td>\n",
       "      <td>...</td>\n",
       "      <td>...</td>\n",
       "      <td>...</td>\n",
       "      <td>...</td>\n",
       "      <td>...</td>\n",
       "      <td>...</td>\n",
       "      <td>...</td>\n",
       "      <td>...</td>\n",
       "      <td>...</td>\n",
       "      <td>...</td>\n",
       "      <td>...</td>\n",
       "      <td>...</td>\n",
       "      <td>...</td>\n",
       "      <td>...</td>\n",
       "      <td>...</td>\n",
       "    </tr>\n",
       "    <tr>\n",
       "      <th>5905</th>\n",
       "      <td>0.012898</td>\n",
       "      <td>0.70621</td>\n",
       "      <td>0.038857</td>\n",
       "      <td>1.17220</td>\n",
       "      <td>-18.9070</td>\n",
       "      <td>0.00000</td>\n",
       "      <td>0.013981</td>\n",
       "      <td>0.41600</td>\n",
       "      <td>1.67680</td>\n",
       "      <td>0.293790</td>\n",
       "      <td>...</td>\n",
       "      <td>0.020169</td>\n",
       "      <td>0.043904</td>\n",
       "      <td>1.01220</td>\n",
       "      <td>1.259400</td>\n",
       "      <td>13.4720</td>\n",
       "      <td>12.4320</td>\n",
       "      <td>49.117</td>\n",
       "      <td>7.4313</td>\n",
       "      <td>2.27990</td>\n",
       "      <td>b'1'</td>\n",
       "    </tr>\n",
       "    <tr>\n",
       "      <th>5906</th>\n",
       "      <td>-0.578050</td>\n",
       "      <td>0.96702</td>\n",
       "      <td>-0.800850</td>\n",
       "      <td>0.16576</td>\n",
       "      <td>-67.3650</td>\n",
       "      <td>-0.57805</td>\n",
       "      <td>-0.578050</td>\n",
       "      <td>-0.40334</td>\n",
       "      <td>0.93979</td>\n",
       "      <td>-0.390040</td>\n",
       "      <td>...</td>\n",
       "      <td>-0.064073</td>\n",
       "      <td>1.482000</td>\n",
       "      <td>1.06410</td>\n",
       "      <td>-0.018084</td>\n",
       "      <td>110.7200</td>\n",
       "      <td>44.7590</td>\n",
       "      <td>81.220</td>\n",
       "      <td>4.4940</td>\n",
       "      <td>5.13050</td>\n",
       "      <td>b'1'</td>\n",
       "    </tr>\n",
       "    <tr>\n",
       "      <th>5907</th>\n",
       "      <td>-0.179050</td>\n",
       "      <td>1.25530</td>\n",
       "      <td>-0.275990</td>\n",
       "      <td>0.74554</td>\n",
       "      <td>-120.4400</td>\n",
       "      <td>-0.17905</td>\n",
       "      <td>-0.154930</td>\n",
       "      <td>-0.26018</td>\n",
       "      <td>1.17490</td>\n",
       "      <td>-0.326590</td>\n",
       "      <td>...</td>\n",
       "      <td>0.148880</td>\n",
       "      <td>0.548240</td>\n",
       "      <td>0.85112</td>\n",
       "      <td>-0.522430</td>\n",
       "      <td>9.8526</td>\n",
       "      <td>3.4892</td>\n",
       "      <td>207.870</td>\n",
       "      <td>1.7559</td>\n",
       "      <td>9.95270</td>\n",
       "      <td>b'1'</td>\n",
       "    </tr>\n",
       "    <tr>\n",
       "      <th>5908</th>\n",
       "      <td>-0.108860</td>\n",
       "      <td>0.74394</td>\n",
       "      <td>0.015449</td>\n",
       "      <td>1.08780</td>\n",
       "      <td>-17.0030</td>\n",
       "      <td>-0.10886</td>\n",
       "      <td>-0.109180</td>\n",
       "      <td>0.12531</td>\n",
       "      <td>0.84516</td>\n",
       "      <td>0.093224</td>\n",
       "      <td>...</td>\n",
       "      <td>-0.183200</td>\n",
       "      <td>-1.167700</td>\n",
       "      <td>1.18320</td>\n",
       "      <td>6.092400</td>\n",
       "      <td>13.8860</td>\n",
       "      <td>6.0769</td>\n",
       "      <td>83.122</td>\n",
       "      <td>4.3911</td>\n",
       "      <td>0.95575</td>\n",
       "      <td>b'1'</td>\n",
       "    </tr>\n",
       "    <tr>\n",
       "      <th>5909</th>\n",
       "      <td>-0.105370</td>\n",
       "      <td>0.53629</td>\n",
       "      <td>-0.045578</td>\n",
       "      <td>0.91478</td>\n",
       "      <td>-56.0680</td>\n",
       "      <td>-0.10537</td>\n",
       "      <td>-0.109940</td>\n",
       "      <td>0.86460</td>\n",
       "      <td>0.95040</td>\n",
       "      <td>0.463670</td>\n",
       "      <td>...</td>\n",
       "      <td>-0.052186</td>\n",
       "      <td>-0.227250</td>\n",
       "      <td>1.05220</td>\n",
       "      <td>0.003196</td>\n",
       "      <td>7.7332</td>\n",
       "      <td>4.7174</td>\n",
       "      <td>136.850</td>\n",
       "      <td>2.6672</td>\n",
       "      <td>2.79270</td>\n",
       "      <td>b'1'</td>\n",
       "    </tr>\n",
       "  </tbody>\n",
       "</table>\n",
       "<p>43405 rows × 65 columns</p>\n",
       "</div>"
      ],
      "text/plain": [
       "         Attr1    Attr2     Attr3    Attr4     Attr5    Attr6     Attr7  \\\n",
       "0     0.200550  0.37951  0.396410  2.04720   32.3510  0.38825  0.249760   \n",
       "1     0.209120  0.49988  0.472250  1.94470   14.7860  0.00000  0.258340   \n",
       "2     0.248660  0.69592  0.267130  1.55480   -1.1523  0.00000  0.309060   \n",
       "3     0.081483  0.30734  0.458790  2.49280   51.9520  0.14988  0.092704   \n",
       "4     0.187320  0.61323  0.229600  1.40630   -7.3128  0.18732  0.187320   \n",
       "...        ...      ...       ...      ...       ...      ...       ...   \n",
       "5905  0.012898  0.70621  0.038857  1.17220  -18.9070  0.00000  0.013981   \n",
       "5906 -0.578050  0.96702 -0.800850  0.16576  -67.3650 -0.57805 -0.578050   \n",
       "5907 -0.179050  1.25530 -0.275990  0.74554 -120.4400 -0.17905 -0.154930   \n",
       "5908 -0.108860  0.74394  0.015449  1.08780  -17.0030 -0.10886 -0.109180   \n",
       "5909 -0.105370  0.53629 -0.045578  0.91478  -56.0680 -0.10537 -0.109940   \n",
       "\n",
       "        Attr8    Attr9    Attr10  ...    Attr56    Attr57   Attr58    Attr59  \\\n",
       "0     1.33050  1.13890  0.504940  ...  0.121960  0.397180  0.87804  0.001924   \n",
       "1     0.99601  1.69960  0.497880  ...  0.121300  0.420020  0.85300  0.000000   \n",
       "2     0.43695  1.30900  0.304080  ...  0.241140  0.817740  0.76599  0.694840   \n",
       "3     1.86610  1.05710  0.573530  ...  0.054015  0.142070  0.94598  0.000000   \n",
       "4     0.63070  1.15590  0.386770  ...  0.134850  0.484310  0.86515  0.124440   \n",
       "...       ...      ...       ...  ...       ...       ...      ...       ...   \n",
       "5905  0.41600  1.67680  0.293790  ...  0.020169  0.043904  1.01220  1.259400   \n",
       "5906 -0.40334  0.93979 -0.390040  ... -0.064073  1.482000  1.06410 -0.018084   \n",
       "5907 -0.26018  1.17490 -0.326590  ...  0.148880  0.548240  0.85112 -0.522430   \n",
       "5908  0.12531  0.84516  0.093224  ... -0.183200 -1.167700  1.18320  6.092400   \n",
       "5909  0.86460  0.95040  0.463670  ... -0.052186 -0.227250  1.05220  0.003196   \n",
       "\n",
       "        Attr60   Attr61   Attr62  Attr63    Attr64  class  \n",
       "0       8.4160   5.1372   82.658  4.4158   7.42770   b'0'  \n",
       "1       4.1486   3.2732  107.350  3.4000  60.98700   b'0'  \n",
       "2       4.9909   3.9510  134.270  2.7185   5.20780   b'0'  \n",
       "3       4.5746   3.6147   86.435  4.2228   5.54970   b'0'  \n",
       "4       6.3985   4.3158  127.210  2.8692   7.89800   b'0'  \n",
       "...        ...      ...      ...     ...       ...    ...  \n",
       "5905   13.4720  12.4320   49.117  7.4313   2.27990   b'1'  \n",
       "5906  110.7200  44.7590   81.220  4.4940   5.13050   b'1'  \n",
       "5907    9.8526   3.4892  207.870  1.7559   9.95270   b'1'  \n",
       "5908   13.8860   6.0769   83.122  4.3911   0.95575   b'1'  \n",
       "5909    7.7332   4.7174  136.850  2.6672   2.79270   b'1'  \n",
       "\n",
       "[43405 rows x 65 columns]"
      ]
     },
     "execution_count": 2,
     "metadata": {},
     "output_type": "execute_result"
    }
   ],
   "source": [
    "data = arff.loadarff('data/1year.arff')\n",
    "df = pd.DataFrame(data[0])\n",
    "\n",
    "data = arff.loadarff('data/2year.arff')\n",
    "df1 = pd.DataFrame(data[0])\n",
    "df = pd.concat([df, df1])\n",
    "\n",
    "data = arff.loadarff('data/3year.arff')\n",
    "df1 = pd.DataFrame(data[0])\n",
    "df = pd.concat([df, df1])\n",
    "\n",
    "data = arff.loadarff('data/4year.arff')\n",
    "df1 = pd.DataFrame(data[0])\n",
    "df = pd.concat([df, df1])\n",
    "\n",
    "data = arff.loadarff('data/5year.arff')\n",
    "df1 = pd.DataFrame(data[0])\n",
    "df = pd.concat([df, df1])\n",
    "\n",
    "df"
   ]
  },
  {
   "cell_type": "markdown",
   "metadata": {},
   "source": [
    "All attributes are of type `float64` as can be seen below."
   ]
  },
  {
   "cell_type": "code",
   "execution_count": 3,
   "metadata": {
    "scrolled": true
   },
   "outputs": [
    {
     "data": {
      "text/plain": [
       "[dtype('float64'),\n",
       " dtype('float64'),\n",
       " dtype('float64'),\n",
       " dtype('float64'),\n",
       " dtype('float64'),\n",
       " dtype('float64'),\n",
       " dtype('float64'),\n",
       " dtype('float64'),\n",
       " dtype('float64'),\n",
       " dtype('float64'),\n",
       " dtype('float64'),\n",
       " dtype('float64'),\n",
       " dtype('float64'),\n",
       " dtype('float64'),\n",
       " dtype('float64'),\n",
       " dtype('float64'),\n",
       " dtype('float64'),\n",
       " dtype('float64'),\n",
       " dtype('float64'),\n",
       " dtype('float64'),\n",
       " dtype('float64'),\n",
       " dtype('float64'),\n",
       " dtype('float64'),\n",
       " dtype('float64'),\n",
       " dtype('float64'),\n",
       " dtype('float64'),\n",
       " dtype('float64'),\n",
       " dtype('float64'),\n",
       " dtype('float64'),\n",
       " dtype('float64'),\n",
       " dtype('float64'),\n",
       " dtype('float64'),\n",
       " dtype('float64'),\n",
       " dtype('float64'),\n",
       " dtype('float64'),\n",
       " dtype('float64'),\n",
       " dtype('float64'),\n",
       " dtype('float64'),\n",
       " dtype('float64'),\n",
       " dtype('float64'),\n",
       " dtype('float64'),\n",
       " dtype('float64'),\n",
       " dtype('float64'),\n",
       " dtype('float64'),\n",
       " dtype('float64'),\n",
       " dtype('float64'),\n",
       " dtype('float64'),\n",
       " dtype('float64'),\n",
       " dtype('float64'),\n",
       " dtype('float64'),\n",
       " dtype('float64'),\n",
       " dtype('float64'),\n",
       " dtype('float64'),\n",
       " dtype('float64'),\n",
       " dtype('float64'),\n",
       " dtype('float64'),\n",
       " dtype('float64'),\n",
       " dtype('float64'),\n",
       " dtype('float64'),\n",
       " dtype('float64'),\n",
       " dtype('float64'),\n",
       " dtype('float64'),\n",
       " dtype('float64'),\n",
       " dtype('float64'),\n",
       " dtype('O')]"
      ]
     },
     "execution_count": 3,
     "metadata": {},
     "output_type": "execute_result"
    }
   ],
   "source": [
    "list(df.dtypes)"
   ]
  },
  {
   "cell_type": "markdown",
   "metadata": {},
   "source": [
    "## Preparing the data"
   ]
  },
  {
   "cell_type": "markdown",
   "metadata": {},
   "source": [
    "Changing the `class` type to int. "
   ]
  },
  {
   "cell_type": "code",
   "execution_count": 4,
   "metadata": {},
   "outputs": [],
   "source": [
    "df['class'] = df['class'].astype('int')"
   ]
  },
  {
   "cell_type": "code",
   "execution_count": 5,
   "metadata": {},
   "outputs": [
    {
     "data": {
      "text/plain": [
       "array([0, 1])"
      ]
     },
     "execution_count": 5,
     "metadata": {},
     "output_type": "execute_result"
    }
   ],
   "source": [
    "df['class'].unique()"
   ]
  },
  {
   "cell_type": "markdown",
   "metadata": {},
   "source": [
    "The dataset is highly imbalanced, as can be seen below. Class 0 has **41314** samples while class 1 has only **2091**."
   ]
  },
  {
   "cell_type": "code",
   "execution_count": 6,
   "metadata": {
    "scrolled": true
   },
   "outputs": [
    {
     "data": {
      "text/plain": [
       "0    41314\n",
       "1     2091\n",
       "Name: class, dtype: int64"
      ]
     },
     "execution_count": 6,
     "metadata": {},
     "output_type": "execute_result"
    }
   ],
   "source": [
    "df['class'].value_counts()"
   ]
  },
  {
   "cell_type": "markdown",
   "metadata": {},
   "source": [
    "Verifying missing data, below, there're attributes missing many values, noticeably **Attr37**."
   ]
  },
  {
   "cell_type": "code",
   "execution_count": 7,
   "metadata": {},
   "outputs": [
    {
     "data": {
      "image/png": "[encoded data removed]",
      "text/plain": [
       "<Figure size 1008x576 with 1 Axes>"
      ]
     },
     "metadata": {
      "needs_background": "light"
     },
     "output_type": "display_data"
    }
   ],
   "source": [
    "plt.figure(figsize=(14,8))\n",
    "sns.heatmap(df.isna(), cbar=False, cmap=\"Blues\").set_title(\"Missing data map\")\n",
    "plt.show()"
   ]
  },
  {
   "cell_type": "markdown",
   "metadata": {},
   "source": [
    "As the dataset is highly imbalanced it'd be interesting to identify from the class with less samples which attributes have more missing values and how much that would be.\n",
    "<br>\n",
    "<br>\n",
    "Percentage of missing values per column for class 1:"
   ]
  },
  {
   "cell_type": "code",
   "execution_count": 8,
   "metadata": {},
   "outputs": [
    {
     "data": {
      "text/plain": [
       "Attr37    2.250893\n",
       "Attr27    1.647276\n",
       "Attr21    1.416887\n",
       "Attr60    0.405483\n",
       "Attr45    0.405483\n",
       "Attr64    0.184311\n",
       "Attr53    0.184311\n",
       "Attr54    0.184311\n",
       "Attr28    0.184311\n",
       "Attr11    0.085244\n",
       "dtype: float64"
      ]
     },
     "execution_count": 8,
     "metadata": {},
     "output_type": "execute_result"
    }
   ],
   "source": [
    "nan_perc = df.loc[df['class']==1].isna().sum()/len(df.index)*100\n",
    "nan_perc.sort_values(ascending=False).head(10)"
   ]
  },
  {
   "cell_type": "markdown",
   "metadata": {},
   "source": [
    "The strategy selected is to drop the attributes related to more missing data for the class 1. That being in a way that the number of samples in class 1 is maximized.\n",
    "<br>\n",
    "For that, the 10 columns with more missing values, for class 1, were selected. "
   ]
  },
  {
   "cell_type": "code",
   "execution_count": 9,
   "metadata": {},
   "outputs": [
    {
     "data": {
      "text/plain": [
       "['Attr37',\n",
       " 'Attr27',\n",
       " 'Attr21',\n",
       " 'Attr60',\n",
       " 'Attr45',\n",
       " 'Attr64',\n",
       " 'Attr53',\n",
       " 'Attr54',\n",
       " 'Attr28',\n",
       " 'Attr11']"
      ]
     },
     "execution_count": 9,
     "metadata": {},
     "output_type": "execute_result"
    }
   ],
   "source": [
    "list_attr = list(nan_perc.sort_values(ascending=False).head(10).index)\n",
    "list_attr"
   ]
  },
  {
   "cell_type": "code",
   "execution_count": 10,
   "metadata": {},
   "outputs": [
    {
     "name": "stdout",
     "output_type": "stream",
     "text": [
      "Class 1 maximum number of samples: 2058\n",
      "Combination of Attributes to achieve the maximum number: ['Attr37', 'Attr27', 'Attr21', 'Attr60', 'Attr45', 'Attr64', 'Attr53', 'Attr54', 'Attr28', 'Attr11']\n"
     ]
    }
   ],
   "source": [
    "max_val_list = 0\n",
    "max_comb = 0\n",
    "\n",
    "for i in range(1, len(list_attr)+1):\n",
    "    comb = combinations(list_attr, i)\n",
    "    for j in list(comb):\n",
    "        df_p = df.copy()\n",
    "        #print(list(j))\n",
    "        df_p.drop(columns=list(j), inplace=True)\n",
    "        \n",
    "        df_p.dropna(inplace=True)\n",
    "        res = df_p['class'].value_counts()[1]\n",
    "        #print(res)\n",
    "        if res > max_val_list:\n",
    "            max_val_list = res\n",
    "            max_comb = list(j)\n",
    "            \n",
    "            \n",
    "print(\"Class 1 maximum number of samples:\", max_val_list)\n",
    "print(\"Combination of Attributes to achieve the maximum number:\", max_comb)"
   ]
  },
  {
   "cell_type": "markdown",
   "metadata": {},
   "source": [
    "A combination of the 10 attributes to be dropped in order to maximize the number of samples for class 1 was found, above, using [combinations](http://www.nabla.hr/CP-PermutCombinatoA.htm#Combinations) \n",
    "<br>\n",
    "<br>\n",
    "The next steps are to drop these attributes and then drop the missing values of the remaining attributes in the dataframe."
   ]
  },
  {
   "cell_type": "code",
   "execution_count": 11,
   "metadata": {},
   "outputs": [],
   "source": [
    "df.drop(columns=max_comb, inplace=True)"
   ]
  },
  {
   "cell_type": "code",
   "execution_count": 12,
   "metadata": {},
   "outputs": [],
   "source": [
    "df.dropna(inplace=True)"
   ]
  },
  {
   "cell_type": "markdown",
   "metadata": {},
   "source": [
    "## SVM (Support Vector Machine)"
   ]
  },
  {
   "cell_type": "markdown",
   "metadata": {},
   "source": [
    "The algorithm chosen to classify the data was SVM, in order to do so the dataset will be downsampled, leaving each category with **1000** samples, and balanced as SVMs works well with small datasets but not necessarily with large ones."
   ]
  },
  {
   "cell_type": "code",
   "execution_count": 13,
   "metadata": {},
   "outputs": [],
   "source": [
    "df_class_1 = df.loc[df['class']==1]\n",
    "df_class_0 = df.loc[df['class']==0]"
   ]
  },
  {
   "cell_type": "code",
   "execution_count": 14,
   "metadata": {},
   "outputs": [],
   "source": [
    "df_class_0_downsampled = resample(df_class_0,\n",
    "                                 replace=False,\n",
    "                                 n_samples=2000)\n",
    "\n",
    "\n",
    "df_class_1_downsampled = resample(df_class_1,\n",
    "                                 replace=False,\n",
    "                                 n_samples=2000)"
   ]
  },
  {
   "cell_type": "markdown",
   "metadata": {},
   "source": [
    "Concatenating the downsampled dataframes."
   ]
  },
  {
   "cell_type": "code",
   "execution_count": 15,
   "metadata": {},
   "outputs": [],
   "source": [
    "df = pd.concat([df_class_1_downsampled, df_class_0_downsampled])"
   ]
  },
  {
   "cell_type": "raw",
   "metadata": {},
   "source": [
    "df = pd.concat([df_class_1, df_class_0_downsampled])"
   ]
  },
  {
   "cell_type": "markdown",
   "metadata": {},
   "source": [
    "Separating the dataset into training and test."
   ]
  },
  {
   "cell_type": "code",
   "execution_count": 16,
   "metadata": {},
   "outputs": [],
   "source": [
    "X = df.drop('class', axis=1)\n",
    "y = df['class']"
   ]
  },
  {
   "cell_type": "code",
   "execution_count": 17,
   "metadata": {},
   "outputs": [],
   "source": [
    "X_train, X_test, y_train, y_test = train_test_split(X, y, test_size=0.33, random_state=42)"
   ]
  },
  {
   "cell_type": "markdown",
   "metadata": {},
   "source": [
    "Scaling the attributes to get better results from training."
   ]
  },
  {
   "cell_type": "code",
   "execution_count": 18,
   "metadata": {},
   "outputs": [],
   "source": [
    "X_train_scaled = preprocessing.scale(X_train)\n",
    "X_test_scaled = preprocessing.scale(X_test)"
   ]
  },
  {
   "cell_type": "code",
   "execution_count": 19,
   "metadata": {},
   "outputs": [
    {
     "data": {
      "text/plain": [
       "SVC()"
      ]
     },
     "execution_count": 19,
     "metadata": {},
     "output_type": "execute_result"
    }
   ],
   "source": [
    "clf = svm.SVC()\n",
    "clf.fit(X_train_scaled, y_train)"
   ]
  },
  {
   "cell_type": "code",
   "execution_count": 20,
   "metadata": {},
   "outputs": [
    {
     "data": {
      "text/plain": [
       "<sklearn.metrics._plot.confusion_matrix.ConfusionMatrixDisplay at 0x7f1fb27d1b50>"
      ]
     },
     "execution_count": 20,
     "metadata": {},
     "output_type": "execute_result"
    },
    {
     "data": {
      "image/png": "[encoded data removed]",
      "text/plain": [
       "<Figure size 432x288 with 2 Axes>"
      ]
     },
     "metadata": {
      "needs_background": "light"
     },
     "output_type": "display_data"
    }
   ],
   "source": [
    "plot_confusion_matrix(clf,\n",
    "                      X_train_scaled,\n",
    "                      y_train)"
   ]
  },
  {
   "cell_type": "code",
   "execution_count": 21,
   "metadata": {
    "scrolled": true
   },
   "outputs": [
    {
     "name": "stdout",
     "output_type": "stream",
     "text": [
      "              precision    recall  f1-score   support\n",
      "\n",
      "           0       0.65      0.77      0.71       632\n",
      "           1       0.75      0.62      0.68       688\n",
      "\n",
      "    accuracy                           0.69      1320\n",
      "   macro avg       0.70      0.69      0.69      1320\n",
      "weighted avg       0.70      0.69      0.69      1320\n",
      "\n",
      "MCC: 0.3919074486256275\n"
     ]
    }
   ],
   "source": [
    "from sklearn.metrics import classification_report\n",
    "from sklearn.metrics import matthews_corrcoef\n",
    "\n",
    "pred = clf.predict(X_test_scaled)\n",
    "print(classification_report(y_test, pred))\n",
    "print(\"MCC:\", matthews_corrcoef(y_test, pred))"
   ]
  },
  {
   "cell_type": "code",
   "execution_count": 22,
   "metadata": {},
   "outputs": [
    {
     "data": {
      "text/plain": [
       "{'C': 1.0,\n",
       " 'break_ties': False,\n",
       " 'cache_size': 200,\n",
       " 'class_weight': None,\n",
       " 'coef0': 0.0,\n",
       " 'decision_function_shape': 'ovr',\n",
       " 'degree': 3,\n",
       " 'gamma': 'scale',\n",
       " 'kernel': 'rbf',\n",
       " 'max_iter': -1,\n",
       " 'probability': False,\n",
       " 'random_state': None,\n",
       " 'shrinking': True,\n",
       " 'tol': 0.001,\n",
       " 'verbose': False}"
      ]
     },
     "execution_count": 22,
     "metadata": {},
     "output_type": "execute_result"
    }
   ],
   "source": [
    "clf.get_params()"
   ]
  },
  {
   "cell_type": "code",
   "execution_count": 23,
   "metadata": {},
   "outputs": [],
   "source": [
    "# objective function to be used by optuna study\n",
    "def objective(trial):\n",
    "    \n",
    "    x_kernel = trial.suggest_categorical('kernel', ['linear', 'poly', 'rbf', 'sigmoid'])\n",
    "    x_C = trial.suggest_float('C', 0.5, 100)\n",
    "    x_gamma = trial.suggest_categorical('gamma', [0.0001, 0.0005, 0.001, 0.005, 0.01, 0.05, 0.1, 0.25, 0.5, 0.75, 1])\n",
    "    \n",
    "    classifier_obj = svm.SVC(C=x_C, kernel=x_kernel, gamma=x_gamma)\n",
    "    \n",
    "    classifier_obj.fit(X_train_scaled, y_train)\n",
    "    \n",
    "    pred_clf = classifier_obj.predict(X_test_scaled)\n",
    "\n",
    "    #score = f1_score(y_test, pred_clf)\n",
    "    score = matthews_corrcoef(y_test, pred)\n",
    "    return score"
   ]
  },
  {
   "cell_type": "code",
   "execution_count": 24,
   "metadata": {},
   "outputs": [],
   "source": [
    "import optuna"
   ]
  },
  {
   "cell_type": "code",
   "execution_count": 25,
   "metadata": {},
   "outputs": [
    {
     "name": "stderr",
     "output_type": "stream",
     "text": [
      "\u001b[32m[I 2021-10-09 08:18:45,123]\u001b[0m A new study created in memory with name: no-name-3c5e3380-eea3-4ed5-8861-82f8cafd0e74\u001b[0m\n",
      "\u001b[32m[I 2021-10-09 08:18:45,587]\u001b[0m Trial 0 finished with value: 0.3919074486256275 and parameters: {'kernel': 'sigmoid', 'C': 86.17088247000079, 'gamma': 1}. Best is trial 0 with value: 0.3919074486256275.\u001b[0m\n",
      "\u001b[32m[I 2021-10-09 08:18:46,963]\u001b[0m Trial 1 finished with value: 0.3919074486256275 and parameters: {'kernel': 'poly', 'C': 72.11593508226863, 'gamma': 0.1}. Best is trial 0 with value: 0.3919074486256275.\u001b[0m\n",
      "\u001b[32m[I 2021-10-09 08:18:47,511]\u001b[0m Trial 2 finished with value: 0.3919074486256275 and parameters: {'kernel': 'rbf', 'C': 62.16807185269297, 'gamma': 0.0001}. Best is trial 0 with value: 0.3919074486256275.\u001b[0m\n",
      "\u001b[32m[I 2021-10-09 08:18:48,019]\u001b[0m Trial 3 finished with value: 0.3919074486256275 and parameters: {'kernel': 'rbf', 'C': 25.260257455533964, 'gamma': 0.001}. Best is trial 0 with value: 0.3919074486256275.\u001b[0m\n",
      "\u001b[32m[I 2021-10-09 08:18:48,536]\u001b[0m Trial 4 finished with value: 0.3919074486256275 and parameters: {'kernel': 'poly', 'C': 54.06038018298079, 'gamma': 0.01}. Best is trial 0 with value: 0.3919074486256275.\u001b[0m\n",
      "\u001b[32m[I 2021-10-09 08:18:49,216]\u001b[0m Trial 5 finished with value: 0.3919074486256275 and parameters: {'kernel': 'sigmoid', 'C': 35.964253385366256, 'gamma': 0.0005}. Best is trial 0 with value: 0.3919074486256275.\u001b[0m\n",
      "\u001b[32m[I 2021-10-09 08:18:49,739]\u001b[0m Trial 6 finished with value: 0.3919074486256275 and parameters: {'kernel': 'rbf', 'C': 11.678909696460554, 'gamma': 0.5}. Best is trial 0 with value: 0.3919074486256275.\u001b[0m\n",
      "\u001b[32m[I 2021-10-09 08:19:30,555]\u001b[0m Trial 7 finished with value: 0.3919074486256275 and parameters: {'kernel': 'poly', 'C': 46.1614977762386, 'gamma': 0.75}. Best is trial 0 with value: 0.3919074486256275.\u001b[0m\n",
      "\u001b[32m[I 2021-10-09 08:19:33,673]\u001b[0m Trial 8 finished with value: 0.3919074486256275 and parameters: {'kernel': 'linear', 'C': 49.274291561297765, 'gamma': 0.005}. Best is trial 0 with value: 0.3919074486256275.\u001b[0m\n",
      "\u001b[32m[I 2021-10-09 08:19:59,380]\u001b[0m Trial 9 finished with value: 0.3919074486256275 and parameters: {'kernel': 'poly', 'C': 49.156893627911515, 'gamma': 0.5}. Best is trial 0 with value: 0.3919074486256275.\u001b[0m\n",
      "\u001b[32m[I 2021-10-09 08:19:59,857]\u001b[0m Trial 10 finished with value: 0.3919074486256275 and parameters: {'kernel': 'sigmoid', 'C': 96.98487664621436, 'gamma': 1}. Best is trial 0 with value: 0.3919074486256275.\u001b[0m\n",
      "\u001b[32m[I 2021-10-09 08:20:00,256]\u001b[0m Trial 11 finished with value: 0.3919074486256275 and parameters: {'kernel': 'sigmoid', 'C': 84.12834086979291, 'gamma': 0.1}. Best is trial 0 with value: 0.3919074486256275.\u001b[0m\n",
      "\u001b[32m[I 2021-10-09 08:20:05,106]\u001b[0m Trial 12 finished with value: 0.3919074486256275 and parameters: {'kernel': 'linear', 'C': 77.72251509940996, 'gamma': 1}. Best is trial 0 with value: 0.3919074486256275.\u001b[0m\n",
      "\u001b[32m[I 2021-10-09 08:20:06,713]\u001b[0m Trial 13 finished with value: 0.3919074486256275 and parameters: {'kernel': 'poly', 'C': 99.21958190863964, 'gamma': 0.1}. Best is trial 0 with value: 0.3919074486256275.\u001b[0m\n",
      "\u001b[32m[I 2021-10-09 08:20:07,121]\u001b[0m Trial 14 finished with value: 0.3919074486256275 and parameters: {'kernel': 'sigmoid', 'C': 72.7043660550083, 'gamma': 0.05}. Best is trial 0 with value: 0.3919074486256275.\u001b[0m\n",
      "\u001b[32m[I 2021-10-09 08:20:07,528]\u001b[0m Trial 15 finished with value: 0.3919074486256275 and parameters: {'kernel': 'sigmoid', 'C': 86.18064241387529, 'gamma': 0.25}. Best is trial 0 with value: 0.3919074486256275.\u001b[0m\n",
      "\u001b[32m[I 2021-10-09 08:21:41,839]\u001b[0m Trial 16 finished with value: 0.3919074486256275 and parameters: {'kernel': 'poly', 'C': 69.17869163149089, 'gamma': 1}. Best is trial 0 with value: 0.3919074486256275.\u001b[0m\n",
      "\u001b[32m[I 2021-10-09 08:21:42,258]\u001b[0m Trial 17 finished with value: 0.3919074486256275 and parameters: {'kernel': 'sigmoid', 'C': 91.60325559389787, 'gamma': 0.05}. Best is trial 0 with value: 0.3919074486256275.\u001b[0m\n",
      "\u001b[32m[I 2021-10-09 08:21:42,692]\u001b[0m Trial 18 finished with value: 0.3919074486256275 and parameters: {'kernel': 'sigmoid', 'C': 84.161363488118, 'gamma': 0.25}. Best is trial 0 with value: 0.3919074486256275.\u001b[0m\n",
      "\u001b[32m[I 2021-10-09 08:21:46,645]\u001b[0m Trial 19 finished with value: 0.3919074486256275 and parameters: {'kernel': 'linear', 'C': 64.3553110704708, 'gamma': 1}. Best is trial 0 with value: 0.3919074486256275.\u001b[0m\n",
      "\u001b[32m[I 2021-10-09 08:21:47,047]\u001b[0m Trial 20 finished with value: 0.3919074486256275 and parameters: {'kernel': 'sigmoid', 'C': 94.64515435932336, 'gamma': 0.05}. Best is trial 0 with value: 0.3919074486256275.\u001b[0m\n",
      "\u001b[32m[I 2021-10-09 08:21:47,453]\u001b[0m Trial 21 finished with value: 0.3919074486256275 and parameters: {'kernel': 'sigmoid', 'C': 86.45033641932999, 'gamma': 0.25}. Best is trial 0 with value: 0.3919074486256275.\u001b[0m\n",
      "\u001b[32m[I 2021-10-09 08:21:51,353]\u001b[0m Trial 22 finished with value: 0.3919074486256275 and parameters: {'kernel': 'linear', 'C': 61.47176421378865, 'gamma': 1}. Best is trial 0 with value: 0.3919074486256275.\u001b[0m\n",
      "\u001b[32m[I 2021-10-09 08:21:57,880]\u001b[0m Trial 23 finished with value: 0.3919074486256275 and parameters: {'kernel': 'linear', 'C': 96.96231509981205, 'gamma': 0.05}. Best is trial 0 with value: 0.3919074486256275.\u001b[0m\n",
      "\u001b[32m[I 2021-10-09 08:21:58,883]\u001b[0m Trial 24 finished with value: 0.3919074486256275 and parameters: {'kernel': 'sigmoid', 'C': 79.32143797591742, 'gamma': 0.001}. Best is trial 0 with value: 0.3919074486256275.\u001b[0m\n",
      "\u001b[32m[I 2021-10-09 08:22:02,295]\u001b[0m Trial 25 finished with value: 0.3919074486256275 and parameters: {'kernel': 'linear', 'C': 59.39838025320371, 'gamma': 0.25}. Best is trial 0 with value: 0.3919074486256275.\u001b[0m\n",
      "\u001b[32m[I 2021-10-09 08:22:04,683]\u001b[0m Trial 26 finished with value: 0.3919074486256275 and parameters: {'kernel': 'linear', 'C': 33.60877302037903, 'gamma': 1}. Best is trial 0 with value: 0.3919074486256275.\u001b[0m\n",
      "\u001b[32m[I 2021-10-09 08:22:05,313]\u001b[0m Trial 27 finished with value: 0.3919074486256275 and parameters: {'kernel': 'sigmoid', 'C': 99.99777717055801, 'gamma': 0.001}. Best is trial 0 with value: 0.3919074486256275.\u001b[0m\n",
      "\u001b[32m[I 2021-10-09 08:22:09,718]\u001b[0m Trial 28 finished with value: 0.3919074486256275 and parameters: {'kernel': 'linear', 'C': 75.87398151124079, 'gamma': 0.001}. Best is trial 0 with value: 0.3919074486256275.\u001b[0m\n",
      "\u001b[32m[I 2021-10-09 08:22:12,027]\u001b[0m Trial 29 finished with value: 0.3919074486256275 and parameters: {'kernel': 'linear', 'C': 30.928724605852526, 'gamma': 0.0001}. Best is trial 0 with value: 0.3919074486256275.\u001b[0m\n",
      "\u001b[32m[I 2021-10-09 08:22:12,712]\u001b[0m Trial 30 finished with value: 0.3919074486256275 and parameters: {'kernel': 'sigmoid', 'C': 14.51975339074366, 'gamma': 0.001}. Best is trial 0 with value: 0.3919074486256275.\u001b[0m\n",
      "\u001b[32m[I 2021-10-09 08:22:15,504]\u001b[0m Trial 31 finished with value: 0.3919074486256275 and parameters: {'kernel': 'linear', 'C': 37.5399274334168, 'gamma': 0.001}. Best is trial 0 with value: 0.3919074486256275.\u001b[0m\n",
      "\u001b[32m[I 2021-10-09 08:22:17,321]\u001b[0m Trial 32 finished with value: 0.3919074486256275 and parameters: {'kernel': 'linear', 'C': 23.192550288432457, 'gamma': 0.0001}. Best is trial 0 with value: 0.3919074486256275.\u001b[0m\n",
      "\u001b[32m[I 2021-10-09 08:22:17,926]\u001b[0m Trial 33 finished with value: 0.3919074486256275 and parameters: {'kernel': 'rbf', 'C': 1.4203770629486439, 'gamma': 0.0001}. Best is trial 0 with value: 0.3919074486256275.\u001b[0m\n",
      "\u001b[32m[I 2021-10-09 08:22:19,405]\u001b[0m Trial 34 finished with value: 0.3919074486256275 and parameters: {'kernel': 'linear', 'C': 18.15240715366278, 'gamma': 0.001}. Best is trial 0 with value: 0.3919074486256275.\u001b[0m\n",
      "\u001b[32m[I 2021-10-09 08:22:19,698]\u001b[0m Trial 35 finished with value: 0.3919074486256275 and parameters: {'kernel': 'sigmoid', 'C': 91.65209317810906, 'gamma': 0.01}. Best is trial 0 with value: 0.3919074486256275.\u001b[0m\n",
      "\u001b[32m[I 2021-10-09 08:22:20,345]\u001b[0m Trial 36 finished with value: 0.3919074486256275 and parameters: {'kernel': 'sigmoid', 'C': 91.66565251837169, 'gamma': 0.0005}. Best is trial 0 with value: 0.3919074486256275.\u001b[0m\n",
      "\u001b[32m[I 2021-10-09 08:22:20,864]\u001b[0m Trial 37 finished with value: 0.3919074486256275 and parameters: {'kernel': 'sigmoid', 'C': 65.88191406246392, 'gamma': 0.75}. Best is trial 0 with value: 0.3919074486256275.\u001b[0m\n"
     ]
    },
    {
     "name": "stderr",
     "output_type": "stream",
     "text": [
      "\u001b[32m[I 2021-10-09 08:22:21,375]\u001b[0m Trial 38 finished with value: 0.3919074486256275 and parameters: {'kernel': 'rbf', 'C': 56.32545489891919, 'gamma': 0.005}. Best is trial 0 with value: 0.3919074486256275.\u001b[0m\n",
      "\u001b[32m[I 2021-10-09 08:22:26,754]\u001b[0m Trial 39 finished with value: 0.3919074486256275 and parameters: {'kernel': 'linear', 'C': 87.13971413287075, 'gamma': 0.05}. Best is trial 0 with value: 0.3919074486256275.\u001b[0m\n",
      "\u001b[32m[I 2021-10-09 08:22:27,581]\u001b[0m Trial 40 finished with value: 0.3919074486256275 and parameters: {'kernel': 'rbf', 'C': 78.77007099721979, 'gamma': 1}. Best is trial 0 with value: 0.3919074486256275.\u001b[0m\n",
      "\u001b[32m[I 2021-10-09 08:22:30,896]\u001b[0m Trial 41 finished with value: 0.3919074486256275 and parameters: {'kernel': 'linear', 'C': 57.249732386907795, 'gamma': 0.25}. Best is trial 0 with value: 0.3919074486256275.\u001b[0m\n",
      "\u001b[32m[I 2021-10-09 08:22:33,638]\u001b[0m Trial 42 finished with value: 0.3919074486256275 and parameters: {'kernel': 'linear', 'C': 38.724259820080135, 'gamma': 0.5}. Best is trial 0 with value: 0.3919074486256275.\u001b[0m\n",
      "\u001b[32m[I 2021-10-09 08:22:36,485]\u001b[0m Trial 43 finished with value: 0.3919074486256275 and parameters: {'kernel': 'linear', 'C': 46.268674577532295, 'gamma': 1}. Best is trial 0 with value: 0.3919074486256275.\u001b[0m\n",
      "\u001b[32m[I 2021-10-09 08:22:37,134]\u001b[0m Trial 44 finished with value: 0.3919074486256275 and parameters: {'kernel': 'sigmoid', 'C': 43.279528142086306, 'gamma': 0.001}. Best is trial 0 with value: 0.3919074486256275.\u001b[0m\n",
      "\u001b[32m[I 2021-10-09 08:22:37,802]\u001b[0m Trial 45 finished with value: 0.3919074486256275 and parameters: {'kernel': 'sigmoid', 'C': 30.411374589816642, 'gamma': 0.001}. Best is trial 0 with value: 0.3919074486256275.\u001b[0m\n",
      "\u001b[32m[I 2021-10-09 08:22:41,902]\u001b[0m Trial 46 finished with value: 0.3919074486256275 and parameters: {'kernel': 'linear', 'C': 70.22804943781424, 'gamma': 0.01}. Best is trial 0 with value: 0.3919074486256275.\u001b[0m\n",
      "\u001b[32m[I 2021-10-09 08:22:45,286]\u001b[0m Trial 47 finished with value: 0.3919074486256275 and parameters: {'kernel': 'linear', 'C': 53.53396811699232, 'gamma': 0.0005}. Best is trial 0 with value: 0.3919074486256275.\u001b[0m\n",
      "\u001b[32m[I 2021-10-09 08:22:45,788]\u001b[0m Trial 48 finished with value: 0.3919074486256275 and parameters: {'kernel': 'poly', 'C': 30.503500435498832, 'gamma': 0.0001}. Best is trial 0 with value: 0.3919074486256275.\u001b[0m\n",
      "\u001b[32m[I 2021-10-09 08:22:48,154]\u001b[0m Trial 49 finished with value: 0.3919074486256275 and parameters: {'kernel': 'linear', 'C': 31.37089782789053, 'gamma': 0.0001}. Best is trial 0 with value: 0.3919074486256275.\u001b[0m\n",
      "\u001b[32m[I 2021-10-09 08:22:48,847]\u001b[0m Trial 50 finished with value: 0.3919074486256275 and parameters: {'kernel': 'sigmoid', 'C': 9.071929997127341, 'gamma': 0.001}. Best is trial 0 with value: 0.3919074486256275.\u001b[0m\n",
      "\u001b[32m[I 2021-10-09 08:22:49,524]\u001b[0m Trial 51 finished with value: 0.3919074486256275 and parameters: {'kernel': 'sigmoid', 'C': 24.351402656543435, 'gamma': 0.001}. Best is trial 0 with value: 0.3919074486256275.\u001b[0m\n",
      "\u001b[32m[I 2021-10-09 08:22:51,240]\u001b[0m Trial 52 finished with value: 0.3919074486256275 and parameters: {'kernel': 'linear', 'C': 21.8788898007163, 'gamma': 0.0001}. Best is trial 0 with value: 0.3919074486256275.\u001b[0m\n",
      "\u001b[32m[I 2021-10-09 08:22:52,850]\u001b[0m Trial 53 finished with value: 0.3919074486256275 and parameters: {'kernel': 'linear', 'C': 18.09227330330009, 'gamma': 0.0001}. Best is trial 0 with value: 0.3919074486256275.\u001b[0m\n",
      "\u001b[32m[I 2021-10-09 08:22:53,457]\u001b[0m Trial 54 finished with value: 0.3919074486256275 and parameters: {'kernel': 'rbf', 'C': 2.0160857206924847, 'gamma': 0.0001}. Best is trial 0 with value: 0.3919074486256275.\u001b[0m\n",
      "\u001b[32m[I 2021-10-09 08:22:54,052]\u001b[0m Trial 55 finished with value: 0.3919074486256275 and parameters: {'kernel': 'rbf', 'C': 1.2529790112981003, 'gamma': 0.0001}. Best is trial 0 with value: 0.3919074486256275.\u001b[0m\n",
      "\u001b[32m[I 2021-10-09 08:22:54,527]\u001b[0m Trial 56 finished with value: 0.3919074486256275 and parameters: {'kernel': 'rbf', 'C': 11.908005717842492, 'gamma': 0.1}. Best is trial 0 with value: 0.3919074486256275.\u001b[0m\n",
      "\u001b[32m[I 2021-10-09 08:22:55,059]\u001b[0m Trial 57 finished with value: 0.3919074486256275 and parameters: {'kernel': 'rbf', 'C': 15.4239547298878, 'gamma': 0.001}. Best is trial 0 with value: 0.3919074486256275.\u001b[0m\n",
      "\u001b[32m[I 2021-10-09 08:22:55,571]\u001b[0m Trial 58 finished with value: 0.3919074486256275 and parameters: {'kernel': 'rbf', 'C': 20.93123961180395, 'gamma': 0.01}. Best is trial 0 with value: 0.3919074486256275.\u001b[0m\n",
      "\u001b[32m[I 2021-10-09 08:22:56,096]\u001b[0m Trial 59 finished with value: 0.3919074486256275 and parameters: {'kernel': 'poly', 'C': 6.38646109425601, 'gamma': 0.01}. Best is trial 0 with value: 0.3919074486256275.\u001b[0m\n",
      "\u001b[32m[I 2021-10-09 08:22:56,751]\u001b[0m Trial 60 finished with value: 0.3919074486256275 and parameters: {'kernel': 'sigmoid', 'C': 93.51631210121933, 'gamma': 0.0005}. Best is trial 0 with value: 0.3919074486256275.\u001b[0m\n",
      "\u001b[32m[I 2021-10-09 08:22:57,252]\u001b[0m Trial 61 finished with value: 0.3919074486256275 and parameters: {'kernel': 'sigmoid', 'C': 90.54696735344423, 'gamma': 0.75}. Best is trial 0 with value: 0.3919074486256275.\u001b[0m\n",
      "\u001b[32m[I 2021-10-09 08:22:57,761]\u001b[0m Trial 62 finished with value: 0.3919074486256275 and parameters: {'kernel': 'rbf', 'C': 89.64359297068317, 'gamma': 0.005}. Best is trial 0 with value: 0.3919074486256275.\u001b[0m\n",
      "\u001b[32m[I 2021-10-09 08:22:58,262]\u001b[0m Trial 63 finished with value: 0.3919074486256275 and parameters: {'kernel': 'sigmoid', 'C': 82.32667811636028, 'gamma': 0.75}. Best is trial 0 with value: 0.3919074486256275.\u001b[0m\n",
      "\u001b[32m[I 2021-10-09 08:22:58,632]\u001b[0m Trial 64 finished with value: 0.3919074486256275 and parameters: {'kernel': 'sigmoid', 'C': 66.20537917761757, 'gamma': 0.005}. Best is trial 0 with value: 0.3919074486256275.\u001b[0m\n",
      "\u001b[32m[I 2021-10-09 08:22:59,151]\u001b[0m Trial 65 finished with value: 0.3919074486256275 and parameters: {'kernel': 'sigmoid', 'C': 73.873023347539, 'gamma': 0.75}. Best is trial 0 with value: 0.3919074486256275.\u001b[0m\n",
      "\u001b[32m[I 2021-10-09 08:22:59,683]\u001b[0m Trial 66 finished with value: 0.3919074486256275 and parameters: {'kernel': 'rbf', 'C': 81.10061835553135, 'gamma': 0.0005}. Best is trial 0 with value: 0.3919074486256275.\u001b[0m\n",
      "\u001b[32m[I 2021-10-09 08:23:00,257]\u001b[0m Trial 67 finished with value: 0.3919074486256275 and parameters: {'kernel': 'rbf', 'C': 88.26980324622096, 'gamma': 0.05}. Best is trial 0 with value: 0.3919074486256275.\u001b[0m\n",
      "\u001b[32m[I 2021-10-09 08:23:00,853]\u001b[0m Trial 68 finished with value: 0.3919074486256275 and parameters: {'kernel': 'rbf', 'C': 59.301052431408095, 'gamma': 0.25}. Best is trial 0 with value: 0.3919074486256275.\u001b[0m\n",
      "\u001b[32m[I 2021-10-09 08:23:01,580]\u001b[0m Trial 69 finished with value: 0.3919074486256275 and parameters: {'kernel': 'rbf', 'C': 55.16062140425361, 'gamma': 1}. Best is trial 0 with value: 0.3919074486256275.\u001b[0m\n",
      "\u001b[32m[I 2021-10-09 08:23:05,900]\u001b[0m Trial 70 finished with value: 0.3919074486256275 and parameters: {'kernel': 'linear', 'C': 67.17427721433313, 'gamma': 0.5}. Best is trial 0 with value: 0.3919074486256275.\u001b[0m\n",
      "\u001b[32m[I 2021-10-09 08:23:06,404]\u001b[0m Trial 71 finished with value: 0.3919074486256275 and parameters: {'kernel': 'poly', 'C': 28.762582968377707, 'gamma': 0.001}. Best is trial 0 with value: 0.3919074486256275.\u001b[0m\n",
      "\u001b[32m[I 2021-10-09 08:23:06,919]\u001b[0m Trial 72 finished with value: 0.3919074486256275 and parameters: {'kernel': 'poly', 'C': 26.189600020461064, 'gamma': 0.0001}. Best is trial 0 with value: 0.3919074486256275.\u001b[0m\n",
      "\u001b[32m[I 2021-10-09 08:23:07,450]\u001b[0m Trial 73 finished with value: 0.3919074486256275 and parameters: {'kernel': 'poly', 'C': 8.897705068974725, 'gamma': 0.0001}. Best is trial 0 with value: 0.3919074486256275.\u001b[0m\n",
      "\u001b[32m[I 2021-10-09 08:23:09,130]\u001b[0m Trial 74 finished with value: 0.3919074486256275 and parameters: {'kernel': 'linear', 'C': 20.020310578518124, 'gamma': 0.0001}. Best is trial 0 with value: 0.3919074486256275.\u001b[0m\n",
      "\u001b[32m[I 2021-10-09 08:23:10,935]\u001b[0m Trial 75 finished with value: 0.3919074486256275 and parameters: {'kernel': 'linear', 'C': 23.80168206944825, 'gamma': 0.0001}. Best is trial 0 with value: 0.3919074486256275.\u001b[0m\n",
      "\u001b[32m[I 2021-10-09 08:23:11,442]\u001b[0m Trial 76 finished with value: 0.3919074486256275 and parameters: {'kernel': 'poly', 'C': 5.541726981732571, 'gamma': 0.0001}. Best is trial 0 with value: 0.3919074486256275.\u001b[0m\n"
     ]
    },
    {
     "name": "stderr",
     "output_type": "stream",
     "text": [
      "\u001b[32m[I 2021-10-09 08:23:11,941]\u001b[0m Trial 77 finished with value: 0.3919074486256275 and parameters: {'kernel': 'poly', 'C': 34.08205649882064, 'gamma': 0.0001}. Best is trial 0 with value: 0.3919074486256275.\u001b[0m\n",
      "\u001b[32m[I 2021-10-09 08:23:12,701]\u001b[0m Trial 78 finished with value: 0.3919074486256275 and parameters: {'kernel': 'sigmoid', 'C': 1.6755626315564989, 'gamma': 0.0001}. Best is trial 0 with value: 0.3919074486256275.\u001b[0m\n",
      "\u001b[32m[I 2021-10-09 08:23:13,194]\u001b[0m Trial 79 finished with value: 0.3919074486256275 and parameters: {'kernel': 'rbf', 'C': 12.035461402880177, 'gamma': 0.1}. Best is trial 0 with value: 0.3919074486256275.\u001b[0m\n",
      "\u001b[32m[I 2021-10-09 08:23:13,686]\u001b[0m Trial 80 finished with value: 0.3919074486256275 and parameters: {'kernel': 'rbf', 'C': 17.444603163494087, 'gamma': 0.1}. Best is trial 0 with value: 0.3919074486256275.\u001b[0m\n",
      "\u001b[32m[I 2021-10-09 08:23:14,175]\u001b[0m Trial 81 finished with value: 0.3919074486256275 and parameters: {'kernel': 'rbf', 'C': 14.94951155642175, 'gamma': 0.1}. Best is trial 0 with value: 0.3919074486256275.\u001b[0m\n",
      "\u001b[32m[I 2021-10-09 08:23:14,676]\u001b[0m Trial 82 finished with value: 0.3919074486256275 and parameters: {'kernel': 'rbf', 'C': 5.677896396669278, 'gamma': 0.01}. Best is trial 0 with value: 0.3919074486256275.\u001b[0m\n",
      "\u001b[32m[I 2021-10-09 08:23:15,202]\u001b[0m Trial 83 finished with value: 0.3919074486256275 and parameters: {'kernel': 'rbf', 'C': 4.158443776759837, 'gamma': 0.01}. Best is trial 0 with value: 0.3919074486256275.\u001b[0m\n",
      "\u001b[32m[I 2021-10-09 08:23:15,742]\u001b[0m Trial 84 finished with value: 0.3919074486256275 and parameters: {'kernel': 'rbf', 'C': 1.1191361662657844, 'gamma': 0.01}. Best is trial 0 with value: 0.3919074486256275.\u001b[0m\n",
      "\u001b[32m[I 2021-10-09 08:23:16,305]\u001b[0m Trial 85 finished with value: 0.3919074486256275 and parameters: {'kernel': 'rbf', 'C': 8.503663882600822, 'gamma': 0.0005}. Best is trial 0 with value: 0.3919074486256275.\u001b[0m\n",
      "\u001b[32m[I 2021-10-09 08:23:16,834]\u001b[0m Trial 86 finished with value: 0.3919074486256275 and parameters: {'kernel': 'rbf', 'C': 97.64380013100774, 'gamma': 0.01}. Best is trial 0 with value: 0.3919074486256275.\u001b[0m\n",
      "\u001b[32m[I 2021-10-09 08:23:17,692]\u001b[0m Trial 87 finished with value: 0.3919074486256275 and parameters: {'kernel': 'rbf', 'C': 92.48982333857796, 'gamma': 0.75}. Best is trial 0 with value: 0.3919074486256275.\u001b[0m\n",
      "\u001b[32m[I 2021-10-09 08:23:18,200]\u001b[0m Trial 88 finished with value: 0.3919074486256275 and parameters: {'kernel': 'sigmoid', 'C': 82.78775104287632, 'gamma': 0.75}. Best is trial 0 with value: 0.3919074486256275.\u001b[0m\n",
      "\u001b[32m[I 2021-10-09 08:23:18,567]\u001b[0m Trial 89 finished with value: 0.3919074486256275 and parameters: {'kernel': 'sigmoid', 'C': 83.91688593621198, 'gamma': 0.005}. Best is trial 0 with value: 0.3919074486256275.\u001b[0m\n",
      "\u001b[32m[I 2021-10-09 08:23:18,926]\u001b[0m Trial 90 finished with value: 0.3919074486256275 and parameters: {'kernel': 'sigmoid', 'C': 95.90589492405445, 'gamma': 0.005}. Best is trial 0 with value: 0.3919074486256275.\u001b[0m\n",
      "\u001b[32m[I 2021-10-09 08:23:19,444]\u001b[0m Trial 91 finished with value: 0.3919074486256275 and parameters: {'kernel': 'sigmoid', 'C': 74.78839750964201, 'gamma': 0.75}. Best is trial 0 with value: 0.3919074486256275.\u001b[0m\n",
      "\u001b[32m[I 2021-10-09 08:23:20,123]\u001b[0m Trial 92 finished with value: 0.3919074486256275 and parameters: {'kernel': 'sigmoid', 'C': 81.79932739020899, 'gamma': 0.0005}. Best is trial 0 with value: 0.3919074486256275.\u001b[0m\n",
      "\u001b[32m[I 2021-10-09 08:23:20,627]\u001b[0m Trial 93 finished with value: 0.3919074486256275 and parameters: {'kernel': 'sigmoid', 'C': 89.19924136256058, 'gamma': 0.75}. Best is trial 0 with value: 0.3919074486256275.\u001b[0m\n",
      "\u001b[32m[I 2021-10-09 08:23:20,989]\u001b[0m Trial 94 finished with value: 0.3919074486256275 and parameters: {'kernel': 'sigmoid', 'C': 88.22775621312691, 'gamma': 0.005}. Best is trial 0 with value: 0.3919074486256275.\u001b[0m\n",
      "\u001b[32m[I 2021-10-09 08:23:21,510]\u001b[0m Trial 95 finished with value: 0.3919074486256275 and parameters: {'kernel': 'sigmoid', 'C': 73.67258070263343, 'gamma': 0.75}. Best is trial 0 with value: 0.3919074486256275.\u001b[0m\n",
      "\u001b[32m[I 2021-10-09 08:23:22,043]\u001b[0m Trial 96 finished with value: 0.3919074486256275 and parameters: {'kernel': 'rbf', 'C': 61.96064269578171, 'gamma': 0.05}. Best is trial 0 with value: 0.3919074486256275.\u001b[0m\n",
      "\u001b[32m[I 2021-10-09 08:23:22,845]\u001b[0m Trial 97 finished with value: 0.3919074486256275 and parameters: {'kernel': 'rbf', 'C': 80.64927669511333, 'gamma': 1}. Best is trial 0 with value: 0.3919074486256275.\u001b[0m\n",
      "\u001b[32m[I 2021-10-09 08:23:23,513]\u001b[0m Trial 98 finished with value: 0.3919074486256275 and parameters: {'kernel': 'rbf', 'C': 66.93395456643303, 'gamma': 0.5}. Best is trial 0 with value: 0.3919074486256275.\u001b[0m\n",
      "\u001b[32m[I 2021-10-09 08:23:30,037]\u001b[0m Trial 99 finished with value: 0.3919074486256275 and parameters: {'kernel': 'poly', 'C': 76.53366623591353, 'gamma': 0.25}. Best is trial 0 with value: 0.3919074486256275.\u001b[0m\n",
      "\u001b[32m[I 2021-10-09 08:23:50,534]\u001b[0m Trial 100 finished with value: 0.3919074486256275 and parameters: {'kernel': 'poly', 'C': 64.2566106139828, 'gamma': 0.5}. Best is trial 0 with value: 0.3919074486256275.\u001b[0m\n",
      "\u001b[32m[I 2021-10-09 08:25:05,020]\u001b[0m Trial 101 finished with value: 0.3919074486256275 and parameters: {'kernel': 'poly', 'C': 52.910464554282164, 'gamma': 1}. Best is trial 0 with value: 0.3919074486256275.\u001b[0m\n",
      "\u001b[32m[I 2021-10-09 08:25:05,801]\u001b[0m Trial 102 finished with value: 0.3919074486256275 and parameters: {'kernel': 'poly', 'C': 70.93320043567817, 'gamma': 0.05}. Best is trial 0 with value: 0.3919074486256275.\u001b[0m\n",
      "\u001b[32m[I 2021-10-09 08:25:12,184]\u001b[0m Trial 103 finished with value: 0.3919074486256275 and parameters: {'kernel': 'poly', 'C': 85.80693272575546, 'gamma': 0.25}. Best is trial 0 with value: 0.3919074486256275.\u001b[0m\n"
     ]
    },
    {
     "ename": "KeyboardInterrupt",
     "evalue": "",
     "output_type": "error",
     "traceback": [
      "\u001b[0;31m---------------------------------------------------------------------------\u001b[0m",
      "\u001b[0;31mKeyboardInterrupt\u001b[0m                         Traceback (most recent call last)",
      "\u001b[0;32m/tmp/ipykernel_8121/277925644.py\u001b[0m in \u001b[0;36m<module>\u001b[0;34m\u001b[0m\n\u001b[1;32m      1\u001b[0m \u001b[0mstudy\u001b[0m \u001b[0;34m=\u001b[0m \u001b[0moptuna\u001b[0m\u001b[0;34m.\u001b[0m\u001b[0mcreate_study\u001b[0m\u001b[0;34m(\u001b[0m\u001b[0mdirection\u001b[0m\u001b[0;34m=\u001b[0m\u001b[0;34m\"maximize\"\u001b[0m\u001b[0;34m)\u001b[0m \u001b[0;31m# maximize the Matthews Correlation Coefficient\u001b[0m\u001b[0;34m\u001b[0m\u001b[0;34m\u001b[0m\u001b[0m\n\u001b[0;32m----> 2\u001b[0;31m \u001b[0mstudy\u001b[0m\u001b[0;34m.\u001b[0m\u001b[0moptimize\u001b[0m\u001b[0;34m(\u001b[0m\u001b[0mobjective\u001b[0m\u001b[0;34m,\u001b[0m \u001b[0mn_trials\u001b[0m\u001b[0;34m=\u001b[0m\u001b[0;36m500\u001b[0m\u001b[0;34m)\u001b[0m\u001b[0;34m\u001b[0m\u001b[0;34m\u001b[0m\u001b[0m\n\u001b[0m\u001b[1;32m      3\u001b[0m \u001b[0mprint\u001b[0m\u001b[0;34m(\u001b[0m\u001b[0mstudy\u001b[0m\u001b[0;34m.\u001b[0m\u001b[0mbest_trial\u001b[0m\u001b[0;34m)\u001b[0m\u001b[0;34m\u001b[0m\u001b[0;34m\u001b[0m\u001b[0m\n",
      "\u001b[0;32m~/anaconda3/lib/python3.8/site-packages/optuna/study.py\u001b[0m in \u001b[0;36moptimize\u001b[0;34m(self, func, n_trials, timeout, n_jobs, catch, callbacks, gc_after_trial, show_progress_bar)\u001b[0m\n\u001b[1;32m    383\u001b[0m                 \u001b[0mIf\u001b[0m \u001b[0mnested\u001b[0m \u001b[0minvocation\u001b[0m \u001b[0mof\u001b[0m \u001b[0mthis\u001b[0m \u001b[0mmethod\u001b[0m \u001b[0moccurs\u001b[0m\u001b[0;34m.\u001b[0m\u001b[0;34m\u001b[0m\u001b[0;34m\u001b[0m\u001b[0m\n\u001b[1;32m    384\u001b[0m         \"\"\"\n\u001b[0;32m--> 385\u001b[0;31m         _optimize(\n\u001b[0m\u001b[1;32m    386\u001b[0m             \u001b[0mstudy\u001b[0m\u001b[0;34m=\u001b[0m\u001b[0mself\u001b[0m\u001b[0;34m,\u001b[0m\u001b[0;34m\u001b[0m\u001b[0;34m\u001b[0m\u001b[0m\n\u001b[1;32m    387\u001b[0m             \u001b[0mfunc\u001b[0m\u001b[0;34m=\u001b[0m\u001b[0mfunc\u001b[0m\u001b[0;34m,\u001b[0m\u001b[0;34m\u001b[0m\u001b[0;34m\u001b[0m\u001b[0m\n",
      "\u001b[0;32m~/anaconda3/lib/python3.8/site-packages/optuna/_optimize.py\u001b[0m in \u001b[0;36m_optimize\u001b[0;34m(study, func, n_trials, timeout, n_jobs, catch, callbacks, gc_after_trial, show_progress_bar)\u001b[0m\n\u001b[1;32m     64\u001b[0m     \u001b[0;32mtry\u001b[0m\u001b[0;34m:\u001b[0m\u001b[0;34m\u001b[0m\u001b[0;34m\u001b[0m\u001b[0m\n\u001b[1;32m     65\u001b[0m         \u001b[0;32mif\u001b[0m \u001b[0mn_jobs\u001b[0m \u001b[0;34m==\u001b[0m \u001b[0;36m1\u001b[0m\u001b[0;34m:\u001b[0m\u001b[0;34m\u001b[0m\u001b[0;34m\u001b[0m\u001b[0m\n\u001b[0;32m---> 66\u001b[0;31m             _optimize_sequential(\n\u001b[0m\u001b[1;32m     67\u001b[0m                 \u001b[0mstudy\u001b[0m\u001b[0;34m,\u001b[0m\u001b[0;34m\u001b[0m\u001b[0;34m\u001b[0m\u001b[0m\n\u001b[1;32m     68\u001b[0m                 \u001b[0mfunc\u001b[0m\u001b[0;34m,\u001b[0m\u001b[0;34m\u001b[0m\u001b[0;34m\u001b[0m\u001b[0m\n",
      "\u001b[0;32m~/anaconda3/lib/python3.8/site-packages/optuna/_optimize.py\u001b[0m in \u001b[0;36m_optimize_sequential\u001b[0;34m(study, func, n_trials, timeout, catch, callbacks, gc_after_trial, reseed_sampler_rng, time_start, progress_bar)\u001b[0m\n\u001b[1;32m    161\u001b[0m \u001b[0;34m\u001b[0m\u001b[0m\n\u001b[1;32m    162\u001b[0m         \u001b[0;32mtry\u001b[0m\u001b[0;34m:\u001b[0m\u001b[0;34m\u001b[0m\u001b[0;34m\u001b[0m\u001b[0m\n\u001b[0;32m--> 163\u001b[0;31m             \u001b[0mtrial\u001b[0m \u001b[0;34m=\u001b[0m \u001b[0m_run_trial\u001b[0m\u001b[0;34m(\u001b[0m\u001b[0mstudy\u001b[0m\u001b[0;34m,\u001b[0m \u001b[0mfunc\u001b[0m\u001b[0;34m,\u001b[0m \u001b[0mcatch\u001b[0m\u001b[0;34m)\u001b[0m\u001b[0;34m\u001b[0m\u001b[0;34m\u001b[0m\u001b[0m\n\u001b[0m\u001b[1;32m    164\u001b[0m         \u001b[0;32mexcept\u001b[0m \u001b[0mException\u001b[0m\u001b[0;34m:\u001b[0m\u001b[0;34m\u001b[0m\u001b[0;34m\u001b[0m\u001b[0m\n\u001b[1;32m    165\u001b[0m             \u001b[0;32mraise\u001b[0m\u001b[0;34m\u001b[0m\u001b[0;34m\u001b[0m\u001b[0m\n",
      "\u001b[0;32m~/anaconda3/lib/python3.8/site-packages/optuna/_optimize.py\u001b[0m in \u001b[0;36m_run_trial\u001b[0;34m(study, func, catch)\u001b[0m\n\u001b[1;32m    215\u001b[0m \u001b[0;34m\u001b[0m\u001b[0m\n\u001b[1;32m    216\u001b[0m     \u001b[0;32mtry\u001b[0m\u001b[0;34m:\u001b[0m\u001b[0;34m\u001b[0m\u001b[0;34m\u001b[0m\u001b[0m\n\u001b[0;32m--> 217\u001b[0;31m         \u001b[0mvalue_or_values\u001b[0m \u001b[0;34m=\u001b[0m \u001b[0mfunc\u001b[0m\u001b[0;34m(\u001b[0m\u001b[0mtrial\u001b[0m\u001b[0;34m)\u001b[0m\u001b[0;34m\u001b[0m\u001b[0;34m\u001b[0m\u001b[0m\n\u001b[0m\u001b[1;32m    218\u001b[0m     \u001b[0;32mexcept\u001b[0m \u001b[0mexceptions\u001b[0m\u001b[0;34m.\u001b[0m\u001b[0mTrialPruned\u001b[0m \u001b[0;32mas\u001b[0m \u001b[0me\u001b[0m\u001b[0;34m:\u001b[0m\u001b[0;34m\u001b[0m\u001b[0;34m\u001b[0m\u001b[0m\n\u001b[1;32m    219\u001b[0m         \u001b[0;31m# TODO(mamu): Handle multi-objective cases.\u001b[0m\u001b[0;34m\u001b[0m\u001b[0;34m\u001b[0m\u001b[0;34m\u001b[0m\u001b[0m\n",
      "\u001b[0;32m/tmp/ipykernel_8121/2393138331.py\u001b[0m in \u001b[0;36mobjective\u001b[0;34m(trial)\u001b[0m\n\u001b[1;32m      8\u001b[0m     \u001b[0mclassifier_obj\u001b[0m \u001b[0;34m=\u001b[0m \u001b[0msvm\u001b[0m\u001b[0;34m.\u001b[0m\u001b[0mSVC\u001b[0m\u001b[0;34m(\u001b[0m\u001b[0mC\u001b[0m\u001b[0;34m=\u001b[0m\u001b[0mx_C\u001b[0m\u001b[0;34m,\u001b[0m \u001b[0mkernel\u001b[0m\u001b[0;34m=\u001b[0m\u001b[0mx_kernel\u001b[0m\u001b[0;34m,\u001b[0m \u001b[0mgamma\u001b[0m\u001b[0;34m=\u001b[0m\u001b[0mx_gamma\u001b[0m\u001b[0;34m)\u001b[0m\u001b[0;34m\u001b[0m\u001b[0;34m\u001b[0m\u001b[0m\n\u001b[1;32m      9\u001b[0m \u001b[0;34m\u001b[0m\u001b[0m\n\u001b[0;32m---> 10\u001b[0;31m     \u001b[0mclassifier_obj\u001b[0m\u001b[0;34m.\u001b[0m\u001b[0mfit\u001b[0m\u001b[0;34m(\u001b[0m\u001b[0mX_train_scaled\u001b[0m\u001b[0;34m,\u001b[0m \u001b[0my_train\u001b[0m\u001b[0;34m)\u001b[0m\u001b[0;34m\u001b[0m\u001b[0;34m\u001b[0m\u001b[0m\n\u001b[0m\u001b[1;32m     11\u001b[0m \u001b[0;34m\u001b[0m\u001b[0m\n\u001b[1;32m     12\u001b[0m     \u001b[0mpred_clf\u001b[0m \u001b[0;34m=\u001b[0m \u001b[0mclassifier_obj\u001b[0m\u001b[0;34m.\u001b[0m\u001b[0mpredict\u001b[0m\u001b[0;34m(\u001b[0m\u001b[0mX_test_scaled\u001b[0m\u001b[0;34m)\u001b[0m\u001b[0;34m\u001b[0m\u001b[0;34m\u001b[0m\u001b[0m\n",
      "\u001b[0;32m~/anaconda3/lib/python3.8/site-packages/sklearn/svm/_base.py\u001b[0m in \u001b[0;36mfit\u001b[0;34m(self, X, y, sample_weight)\u001b[0m\n\u001b[1;32m    215\u001b[0m \u001b[0;34m\u001b[0m\u001b[0m\n\u001b[1;32m    216\u001b[0m         \u001b[0mseed\u001b[0m \u001b[0;34m=\u001b[0m \u001b[0mrnd\u001b[0m\u001b[0;34m.\u001b[0m\u001b[0mrandint\u001b[0m\u001b[0;34m(\u001b[0m\u001b[0mnp\u001b[0m\u001b[0;34m.\u001b[0m\u001b[0miinfo\u001b[0m\u001b[0;34m(\u001b[0m\u001b[0;34m'i'\u001b[0m\u001b[0;34m)\u001b[0m\u001b[0;34m.\u001b[0m\u001b[0mmax\u001b[0m\u001b[0;34m)\u001b[0m\u001b[0;34m\u001b[0m\u001b[0;34m\u001b[0m\u001b[0m\n\u001b[0;32m--> 217\u001b[0;31m         \u001b[0mfit\u001b[0m\u001b[0;34m(\u001b[0m\u001b[0mX\u001b[0m\u001b[0;34m,\u001b[0m \u001b[0my\u001b[0m\u001b[0;34m,\u001b[0m \u001b[0msample_weight\u001b[0m\u001b[0;34m,\u001b[0m \u001b[0msolver_type\u001b[0m\u001b[0;34m,\u001b[0m \u001b[0mkernel\u001b[0m\u001b[0;34m,\u001b[0m \u001b[0mrandom_seed\u001b[0m\u001b[0;34m=\u001b[0m\u001b[0mseed\u001b[0m\u001b[0;34m)\u001b[0m\u001b[0;34m\u001b[0m\u001b[0;34m\u001b[0m\u001b[0m\n\u001b[0m\u001b[1;32m    218\u001b[0m         \u001b[0;31m# see comment on the other call to np.iinfo in this file\u001b[0m\u001b[0;34m\u001b[0m\u001b[0;34m\u001b[0m\u001b[0;34m\u001b[0m\u001b[0m\n\u001b[1;32m    219\u001b[0m \u001b[0;34m\u001b[0m\u001b[0m\n",
      "\u001b[0;32m~/anaconda3/lib/python3.8/site-packages/sklearn/svm/_base.py\u001b[0m in \u001b[0;36m_dense_fit\u001b[0;34m(self, X, y, sample_weight, solver_type, kernel, random_seed)\u001b[0m\n\u001b[1;32m    266\u001b[0m         \u001b[0mself\u001b[0m\u001b[0;34m.\u001b[0m\u001b[0msupport_\u001b[0m\u001b[0;34m,\u001b[0m \u001b[0mself\u001b[0m\u001b[0;34m.\u001b[0m\u001b[0msupport_vectors_\u001b[0m\u001b[0;34m,\u001b[0m \u001b[0mself\u001b[0m\u001b[0;34m.\u001b[0m\u001b[0m_n_support\u001b[0m\u001b[0;34m,\u001b[0m\u001b[0;31m \u001b[0m\u001b[0;31m\\\u001b[0m\u001b[0;34m\u001b[0m\u001b[0;34m\u001b[0m\u001b[0m\n\u001b[1;32m    267\u001b[0m             \u001b[0mself\u001b[0m\u001b[0;34m.\u001b[0m\u001b[0mdual_coef_\u001b[0m\u001b[0;34m,\u001b[0m \u001b[0mself\u001b[0m\u001b[0;34m.\u001b[0m\u001b[0mintercept_\u001b[0m\u001b[0;34m,\u001b[0m \u001b[0mself\u001b[0m\u001b[0;34m.\u001b[0m\u001b[0m_probA\u001b[0m\u001b[0;34m,\u001b[0m\u001b[0;31m \u001b[0m\u001b[0;31m\\\u001b[0m\u001b[0;34m\u001b[0m\u001b[0;34m\u001b[0m\u001b[0m\n\u001b[0;32m--> 268\u001b[0;31m             self._probB, self.fit_status_ = libsvm.fit(\n\u001b[0m\u001b[1;32m    269\u001b[0m                 \u001b[0mX\u001b[0m\u001b[0;34m,\u001b[0m \u001b[0my\u001b[0m\u001b[0;34m,\u001b[0m\u001b[0;34m\u001b[0m\u001b[0;34m\u001b[0m\u001b[0m\n\u001b[1;32m    270\u001b[0m                 \u001b[0msvm_type\u001b[0m\u001b[0;34m=\u001b[0m\u001b[0msolver_type\u001b[0m\u001b[0;34m,\u001b[0m \u001b[0msample_weight\u001b[0m\u001b[0;34m=\u001b[0m\u001b[0msample_weight\u001b[0m\u001b[0;34m,\u001b[0m\u001b[0;34m\u001b[0m\u001b[0;34m\u001b[0m\u001b[0m\n",
      "\u001b[0;31mKeyboardInterrupt\u001b[0m: "
     ]
    }
   ],
   "source": [
    "study = optuna.create_study(direction=\"maximize\") # maximize the Matthews Correlation Coefficient\n",
    "study.optimize(objective, n_trials=500)\n",
    "print(study.best_trial)"
   ]
  },
  {
   "cell_type": "markdown",
   "metadata": {},
   "source": [
    "---\n",
    "---"
   ]
  },
  {
   "cell_type": "code",
   "execution_count": null,
   "metadata": {},
   "outputs": [],
   "source": [
    "%load_ext watermark\n",
    "%watermark -iv -v -nuw"
   ]
  }
 ],
 "metadata": {
  "kernelspec": {
   "display_name": "Python 3 (ipykernel)",
   "language": "python",
   "name": "python3"
  },
  "language_info": {
   "codemirror_mode": {
    "name": "ipython",
    "version": 3
   },
   "file_extension": ".py",
   "mimetype": "text/x-python",
   "name": "python",
   "nbconvert_exporter": "python",
   "pygments_lexer": "ipython3",
   "version": "3.8.11"
  }
 },
 "nbformat": 4,
 "nbformat_minor": 4
}
