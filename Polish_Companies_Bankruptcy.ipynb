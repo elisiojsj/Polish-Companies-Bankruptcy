{
 "cells": [
  {
   "cell_type": "markdown",
   "metadata": {},
   "source": [
    "https://archive.ics.uci.edu/ml/datasets/Polish+companies+bankruptcy+data\n"
   ]
  },
  {
   "cell_type": "code",
   "execution_count": 64,
   "metadata": {},
   "outputs": [],
   "source": [
    "import numpy as np\n",
    "import pandas as pd\n",
    "import seaborn as sns\n",
    "import matplotlib.pyplot as plt\n",
    "from scipy.io import arff"
   ]
  },
  {
   "cell_type": "code",
   "execution_count": 65,
   "metadata": {},
   "outputs": [
    {
     "data": {
      "text/html": [
       "<div>\n",
       "<style scoped>\n",
       "    .dataframe tbody tr th:only-of-type {\n",
       "        vertical-align: middle;\n",
       "    }\n",
       "\n",
       "    .dataframe tbody tr th {\n",
       "        vertical-align: top;\n",
       "    }\n",
       "\n",
       "    .dataframe thead th {\n",
       "        text-align: right;\n",
       "    }\n",
       "</style>\n",
       "<table border=\"1\" class=\"dataframe\">\n",
       "  <thead>\n",
       "    <tr style=\"text-align: right;\">\n",
       "      <th></th>\n",
       "      <th>Attr1</th>\n",
       "      <th>Attr2</th>\n",
       "      <th>Attr3</th>\n",
       "      <th>Attr4</th>\n",
       "      <th>Attr5</th>\n",
       "      <th>Attr6</th>\n",
       "      <th>Attr7</th>\n",
       "      <th>Attr8</th>\n",
       "      <th>Attr9</th>\n",
       "      <th>Attr10</th>\n",
       "      <th>...</th>\n",
       "      <th>Attr56</th>\n",
       "      <th>Attr57</th>\n",
       "      <th>Attr58</th>\n",
       "      <th>Attr59</th>\n",
       "      <th>Attr60</th>\n",
       "      <th>Attr61</th>\n",
       "      <th>Attr62</th>\n",
       "      <th>Attr63</th>\n",
       "      <th>Attr64</th>\n",
       "      <th>class</th>\n",
       "    </tr>\n",
       "  </thead>\n",
       "  <tbody>\n",
       "    <tr>\n",
       "      <th>0</th>\n",
       "      <td>0.200550</td>\n",
       "      <td>0.37951</td>\n",
       "      <td>0.396410</td>\n",
       "      <td>2.04720</td>\n",
       "      <td>32.3510</td>\n",
       "      <td>0.388250</td>\n",
       "      <td>0.249760</td>\n",
       "      <td>1.33050</td>\n",
       "      <td>1.13890</td>\n",
       "      <td>0.50494</td>\n",
       "      <td>...</td>\n",
       "      <td>0.121960</td>\n",
       "      <td>0.397180</td>\n",
       "      <td>0.87804</td>\n",
       "      <td>0.001924</td>\n",
       "      <td>8.4160</td>\n",
       "      <td>5.1372</td>\n",
       "      <td>82.658</td>\n",
       "      <td>4.4158</td>\n",
       "      <td>7.42770</td>\n",
       "      <td>b'0'</td>\n",
       "    </tr>\n",
       "    <tr>\n",
       "      <th>1</th>\n",
       "      <td>0.209120</td>\n",
       "      <td>0.49988</td>\n",
       "      <td>0.472250</td>\n",
       "      <td>1.94470</td>\n",
       "      <td>14.7860</td>\n",
       "      <td>0.000000</td>\n",
       "      <td>0.258340</td>\n",
       "      <td>0.99601</td>\n",
       "      <td>1.69960</td>\n",
       "      <td>0.49788</td>\n",
       "      <td>...</td>\n",
       "      <td>0.121300</td>\n",
       "      <td>0.420020</td>\n",
       "      <td>0.85300</td>\n",
       "      <td>0.000000</td>\n",
       "      <td>4.1486</td>\n",
       "      <td>3.2732</td>\n",
       "      <td>107.350</td>\n",
       "      <td>3.4000</td>\n",
       "      <td>60.98700</td>\n",
       "      <td>b'0'</td>\n",
       "    </tr>\n",
       "    <tr>\n",
       "      <th>2</th>\n",
       "      <td>0.248660</td>\n",
       "      <td>0.69592</td>\n",
       "      <td>0.267130</td>\n",
       "      <td>1.55480</td>\n",
       "      <td>-1.1523</td>\n",
       "      <td>0.000000</td>\n",
       "      <td>0.309060</td>\n",
       "      <td>0.43695</td>\n",
       "      <td>1.30900</td>\n",
       "      <td>0.30408</td>\n",
       "      <td>...</td>\n",
       "      <td>0.241140</td>\n",
       "      <td>0.817740</td>\n",
       "      <td>0.76599</td>\n",
       "      <td>0.694840</td>\n",
       "      <td>4.9909</td>\n",
       "      <td>3.9510</td>\n",
       "      <td>134.270</td>\n",
       "      <td>2.7185</td>\n",
       "      <td>5.20780</td>\n",
       "      <td>b'0'</td>\n",
       "    </tr>\n",
       "    <tr>\n",
       "      <th>3</th>\n",
       "      <td>0.081483</td>\n",
       "      <td>0.30734</td>\n",
       "      <td>0.458790</td>\n",
       "      <td>2.49280</td>\n",
       "      <td>51.9520</td>\n",
       "      <td>0.149880</td>\n",
       "      <td>0.092704</td>\n",
       "      <td>1.86610</td>\n",
       "      <td>1.05710</td>\n",
       "      <td>0.57353</td>\n",
       "      <td>...</td>\n",
       "      <td>0.054015</td>\n",
       "      <td>0.142070</td>\n",
       "      <td>0.94598</td>\n",
       "      <td>0.000000</td>\n",
       "      <td>4.5746</td>\n",
       "      <td>3.6147</td>\n",
       "      <td>86.435</td>\n",
       "      <td>4.2228</td>\n",
       "      <td>5.54970</td>\n",
       "      <td>b'0'</td>\n",
       "    </tr>\n",
       "    <tr>\n",
       "      <th>4</th>\n",
       "      <td>0.187320</td>\n",
       "      <td>0.61323</td>\n",
       "      <td>0.229600</td>\n",
       "      <td>1.40630</td>\n",
       "      <td>-7.3128</td>\n",
       "      <td>0.187320</td>\n",
       "      <td>0.187320</td>\n",
       "      <td>0.63070</td>\n",
       "      <td>1.15590</td>\n",
       "      <td>0.38677</td>\n",
       "      <td>...</td>\n",
       "      <td>0.134850</td>\n",
       "      <td>0.484310</td>\n",
       "      <td>0.86515</td>\n",
       "      <td>0.124440</td>\n",
       "      <td>6.3985</td>\n",
       "      <td>4.3158</td>\n",
       "      <td>127.210</td>\n",
       "      <td>2.8692</td>\n",
       "      <td>7.89800</td>\n",
       "      <td>b'0'</td>\n",
       "    </tr>\n",
       "    <tr>\n",
       "      <th>...</th>\n",
       "      <td>...</td>\n",
       "      <td>...</td>\n",
       "      <td>...</td>\n",
       "      <td>...</td>\n",
       "      <td>...</td>\n",
       "      <td>...</td>\n",
       "      <td>...</td>\n",
       "      <td>...</td>\n",
       "      <td>...</td>\n",
       "      <td>...</td>\n",
       "      <td>...</td>\n",
       "      <td>...</td>\n",
       "      <td>...</td>\n",
       "      <td>...</td>\n",
       "      <td>...</td>\n",
       "      <td>...</td>\n",
       "      <td>...</td>\n",
       "      <td>...</td>\n",
       "      <td>...</td>\n",
       "      <td>...</td>\n",
       "      <td>...</td>\n",
       "    </tr>\n",
       "    <tr>\n",
       "      <th>9787</th>\n",
       "      <td>0.004676</td>\n",
       "      <td>0.54949</td>\n",
       "      <td>0.192810</td>\n",
       "      <td>1.38990</td>\n",
       "      <td>-39.0640</td>\n",
       "      <td>0.004676</td>\n",
       "      <td>0.013002</td>\n",
       "      <td>0.78627</td>\n",
       "      <td>0.97093</td>\n",
       "      <td>0.43205</td>\n",
       "      <td>...</td>\n",
       "      <td>-0.029937</td>\n",
       "      <td>0.010823</td>\n",
       "      <td>1.02990</td>\n",
       "      <td>0.127190</td>\n",
       "      <td>3.8159</td>\n",
       "      <td>3.3892</td>\n",
       "      <td>146.860</td>\n",
       "      <td>2.4854</td>\n",
       "      <td>3.93150</td>\n",
       "      <td>b'1'</td>\n",
       "    </tr>\n",
       "    <tr>\n",
       "      <th>9788</th>\n",
       "      <td>-0.027610</td>\n",
       "      <td>0.60748</td>\n",
       "      <td>-0.029762</td>\n",
       "      <td>0.90591</td>\n",
       "      <td>-20.9230</td>\n",
       "      <td>-0.027610</td>\n",
       "      <td>-0.027610</td>\n",
       "      <td>0.55161</td>\n",
       "      <td>1.00730</td>\n",
       "      <td>0.33509</td>\n",
       "      <td>...</td>\n",
       "      <td>0.007198</td>\n",
       "      <td>-0.082395</td>\n",
       "      <td>0.99280</td>\n",
       "      <td>0.868910</td>\n",
       "      <td>23.0280</td>\n",
       "      <td>27.1360</td>\n",
       "      <td>37.047</td>\n",
       "      <td>9.8523</td>\n",
       "      <td>4.36810</td>\n",
       "      <td>b'1'</td>\n",
       "    </tr>\n",
       "    <tr>\n",
       "      <th>9789</th>\n",
       "      <td>-0.238290</td>\n",
       "      <td>0.62708</td>\n",
       "      <td>0.090374</td>\n",
       "      <td>1.61250</td>\n",
       "      <td>-1.0692</td>\n",
       "      <td>-0.238290</td>\n",
       "      <td>-0.240360</td>\n",
       "      <td>0.28322</td>\n",
       "      <td>0.80307</td>\n",
       "      <td>0.17760</td>\n",
       "      <td>...</td>\n",
       "      <td>-0.245220</td>\n",
       "      <td>-1.341700</td>\n",
       "      <td>1.24520</td>\n",
       "      <td>2.700100</td>\n",
       "      <td>6.5694</td>\n",
       "      <td>4.1781</td>\n",
       "      <td>88.883</td>\n",
       "      <td>4.1065</td>\n",
       "      <td>0.79501</td>\n",
       "      <td>b'1'</td>\n",
       "    </tr>\n",
       "    <tr>\n",
       "      <th>9790</th>\n",
       "      <td>0.097188</td>\n",
       "      <td>0.75300</td>\n",
       "      <td>-0.327680</td>\n",
       "      <td>0.43850</td>\n",
       "      <td>-214.2400</td>\n",
       "      <td>-0.331300</td>\n",
       "      <td>0.104280</td>\n",
       "      <td>0.32803</td>\n",
       "      <td>0.98145</td>\n",
       "      <td>0.24700</td>\n",
       "      <td>...</td>\n",
       "      <td>0.288240</td>\n",
       "      <td>0.393470</td>\n",
       "      <td>0.68127</td>\n",
       "      <td>0.508850</td>\n",
       "      <td>4.3246</td>\n",
       "      <td>35.5030</td>\n",
       "      <td>217.030</td>\n",
       "      <td>1.6818</td>\n",
       "      <td>1.31910</td>\n",
       "      <td>b'1'</td>\n",
       "    </tr>\n",
       "    <tr>\n",
       "      <th>9791</th>\n",
       "      <td>0.021416</td>\n",
       "      <td>0.48678</td>\n",
       "      <td>0.148940</td>\n",
       "      <td>1.30670</td>\n",
       "      <td>-24.2820</td>\n",
       "      <td>0.021416</td>\n",
       "      <td>0.027253</td>\n",
       "      <td>1.05320</td>\n",
       "      <td>1.00140</td>\n",
       "      <td>0.51267</td>\n",
       "      <td>...</td>\n",
       "      <td>0.001393</td>\n",
       "      <td>0.041773</td>\n",
       "      <td>0.99861</td>\n",
       "      <td>0.002146</td>\n",
       "      <td>6.7582</td>\n",
       "      <td>4.9171</td>\n",
       "      <td>98.421</td>\n",
       "      <td>3.7085</td>\n",
       "      <td>4.92950</td>\n",
       "      <td>b'1'</td>\n",
       "    </tr>\n",
       "  </tbody>\n",
       "</table>\n",
       "<p>37495 rows × 65 columns</p>\n",
       "</div>"
      ],
      "text/plain": [
       "         Attr1    Attr2     Attr3    Attr4     Attr5     Attr6     Attr7  \\\n",
       "0     0.200550  0.37951  0.396410  2.04720   32.3510  0.388250  0.249760   \n",
       "1     0.209120  0.49988  0.472250  1.94470   14.7860  0.000000  0.258340   \n",
       "2     0.248660  0.69592  0.267130  1.55480   -1.1523  0.000000  0.309060   \n",
       "3     0.081483  0.30734  0.458790  2.49280   51.9520  0.149880  0.092704   \n",
       "4     0.187320  0.61323  0.229600  1.40630   -7.3128  0.187320  0.187320   \n",
       "...        ...      ...       ...      ...       ...       ...       ...   \n",
       "9787  0.004676  0.54949  0.192810  1.38990  -39.0640  0.004676  0.013002   \n",
       "9788 -0.027610  0.60748 -0.029762  0.90591  -20.9230 -0.027610 -0.027610   \n",
       "9789 -0.238290  0.62708  0.090374  1.61250   -1.0692 -0.238290 -0.240360   \n",
       "9790  0.097188  0.75300 -0.327680  0.43850 -214.2400 -0.331300  0.104280   \n",
       "9791  0.021416  0.48678  0.148940  1.30670  -24.2820  0.021416  0.027253   \n",
       "\n",
       "        Attr8    Attr9   Attr10  ...    Attr56    Attr57   Attr58    Attr59  \\\n",
       "0     1.33050  1.13890  0.50494  ...  0.121960  0.397180  0.87804  0.001924   \n",
       "1     0.99601  1.69960  0.49788  ...  0.121300  0.420020  0.85300  0.000000   \n",
       "2     0.43695  1.30900  0.30408  ...  0.241140  0.817740  0.76599  0.694840   \n",
       "3     1.86610  1.05710  0.57353  ...  0.054015  0.142070  0.94598  0.000000   \n",
       "4     0.63070  1.15590  0.38677  ...  0.134850  0.484310  0.86515  0.124440   \n",
       "...       ...      ...      ...  ...       ...       ...      ...       ...   \n",
       "9787  0.78627  0.97093  0.43205  ... -0.029937  0.010823  1.02990  0.127190   \n",
       "9788  0.55161  1.00730  0.33509  ...  0.007198 -0.082395  0.99280  0.868910   \n",
       "9789  0.28322  0.80307  0.17760  ... -0.245220 -1.341700  1.24520  2.700100   \n",
       "9790  0.32803  0.98145  0.24700  ...  0.288240  0.393470  0.68127  0.508850   \n",
       "9791  1.05320  1.00140  0.51267  ...  0.001393  0.041773  0.99861  0.002146   \n",
       "\n",
       "       Attr60   Attr61   Attr62  Attr63    Attr64  class  \n",
       "0      8.4160   5.1372   82.658  4.4158   7.42770   b'0'  \n",
       "1      4.1486   3.2732  107.350  3.4000  60.98700   b'0'  \n",
       "2      4.9909   3.9510  134.270  2.7185   5.20780   b'0'  \n",
       "3      4.5746   3.6147   86.435  4.2228   5.54970   b'0'  \n",
       "4      6.3985   4.3158  127.210  2.8692   7.89800   b'0'  \n",
       "...       ...      ...      ...     ...       ...    ...  \n",
       "9787   3.8159   3.3892  146.860  2.4854   3.93150   b'1'  \n",
       "9788  23.0280  27.1360   37.047  9.8523   4.36810   b'1'  \n",
       "9789   6.5694   4.1781   88.883  4.1065   0.79501   b'1'  \n",
       "9790   4.3246  35.5030  217.030  1.6818   1.31910   b'1'  \n",
       "9791   6.7582   4.9171   98.421  3.7085   4.92950   b'1'  \n",
       "\n",
       "[37495 rows x 65 columns]"
      ]
     },
     "execution_count": 65,
     "metadata": {},
     "output_type": "execute_result"
    }
   ],
   "source": [
    "data = arff.loadarff('data/1year.arff')\n",
    "df = pd.DataFrame(data[0])\n",
    "\n",
    "data = arff.loadarff('data/2year.arff')\n",
    "df1 = pd.DataFrame(data[0])\n",
    "df = pd.concat([df, df1])\n",
    "\n",
    "data = arff.loadarff('data/3year.arff')\n",
    "df1 = pd.DataFrame(data[0])\n",
    "df = pd.concat([df, df1])\n",
    "\n",
    "data = arff.loadarff('data/4year.arff')\n",
    "df1 = pd.DataFrame(data[0])\n",
    "df = pd.concat([df, df1])\n",
    "\n",
    "df"
   ]
  },
  {
   "cell_type": "code",
   "execution_count": 66,
   "metadata": {},
   "outputs": [
    {
     "data": {
      "text/plain": [
       "[dtype('float64'),\n",
       " dtype('float64'),\n",
       " dtype('float64'),\n",
       " dtype('float64'),\n",
       " dtype('float64'),\n",
       " dtype('float64'),\n",
       " dtype('float64'),\n",
       " dtype('float64'),\n",
       " dtype('float64'),\n",
       " dtype('float64'),\n",
       " dtype('float64'),\n",
       " dtype('float64'),\n",
       " dtype('float64'),\n",
       " dtype('float64'),\n",
       " dtype('float64'),\n",
       " dtype('float64'),\n",
       " dtype('float64'),\n",
       " dtype('float64'),\n",
       " dtype('float64'),\n",
       " dtype('float64'),\n",
       " dtype('float64'),\n",
       " dtype('float64'),\n",
       " dtype('float64'),\n",
       " dtype('float64'),\n",
       " dtype('float64'),\n",
       " dtype('float64'),\n",
       " dtype('float64'),\n",
       " dtype('float64'),\n",
       " dtype('float64'),\n",
       " dtype('float64'),\n",
       " dtype('float64'),\n",
       " dtype('float64'),\n",
       " dtype('float64'),\n",
       " dtype('float64'),\n",
       " dtype('float64'),\n",
       " dtype('float64'),\n",
       " dtype('float64'),\n",
       " dtype('float64'),\n",
       " dtype('float64'),\n",
       " dtype('float64'),\n",
       " dtype('float64'),\n",
       " dtype('float64'),\n",
       " dtype('float64'),\n",
       " dtype('float64'),\n",
       " dtype('float64'),\n",
       " dtype('float64'),\n",
       " dtype('float64'),\n",
       " dtype('float64'),\n",
       " dtype('float64'),\n",
       " dtype('float64'),\n",
       " dtype('float64'),\n",
       " dtype('float64'),\n",
       " dtype('float64'),\n",
       " dtype('float64'),\n",
       " dtype('float64'),\n",
       " dtype('float64'),\n",
       " dtype('float64'),\n",
       " dtype('float64'),\n",
       " dtype('float64'),\n",
       " dtype('float64'),\n",
       " dtype('float64'),\n",
       " dtype('float64'),\n",
       " dtype('float64'),\n",
       " dtype('float64'),\n",
       " dtype('O')]"
      ]
     },
     "execution_count": 66,
     "metadata": {},
     "output_type": "execute_result"
    }
   ],
   "source": [
    "list(df.dtypes)"
   ]
  },
  {
   "cell_type": "code",
   "execution_count": 67,
   "metadata": {},
   "outputs": [
    {
     "data": {
      "image/png": "[encoded data removed]",
      "text/plain": [
       "<Figure size 1008x576 with 1 Axes>"
      ]
     },
     "metadata": {
      "needs_background": "light"
     },
     "output_type": "display_data"
    }
   ],
   "source": [
    "plt.figure(figsize=(14,8))\n",
    "sns.heatmap(df.isna(), cbar=False, cmap=\"Blues\").set_title(\"Missing data map\")\n",
    "plt.show()"
   ]
  },
  {
   "cell_type": "code",
   "execution_count": 68,
   "metadata": {},
   "outputs": [],
   "source": [
    "df['class'] = df['class'].astype('int')"
   ]
  },
  {
   "cell_type": "code",
   "execution_count": 69,
   "metadata": {},
   "outputs": [
    {
     "data": {
      "text/plain": [
       "array([0, 1])"
      ]
     },
     "execution_count": 69,
     "metadata": {},
     "output_type": "execute_result"
    }
   ],
   "source": [
    "df['class'].unique()"
   ]
  },
  {
   "cell_type": "code",
   "execution_count": 70,
   "metadata": {},
   "outputs": [
    {
     "data": {
      "text/plain": [
       "0    35814\n",
       "1     1681\n",
       "Name: class, dtype: int64"
      ]
     },
     "execution_count": 70,
     "metadata": {},
     "output_type": "execute_result"
    }
   ],
   "source": [
    "df['class'].value_counts()"
   ]
  },
  {
   "cell_type": "code",
   "execution_count": 72,
   "metadata": {},
   "outputs": [
    {
     "data": {
      "text/plain": [
       "Attr37    2.045606\n",
       "Attr27    1.578877\n",
       "Attr21    1.376183\n",
       "Attr45    0.368049\n",
       "Attr60    0.368049\n",
       "Attr28    0.162688\n",
       "Attr64    0.162688\n",
       "Attr54    0.162688\n",
       "Attr53    0.162688\n",
       "Attr11    0.096013\n",
       "dtype: float64"
      ]
     },
     "execution_count": 72,
     "metadata": {},
     "output_type": "execute_result"
    }
   ],
   "source": [
    "# Percentage of missing values per column\n",
    "nan_perc = df.loc[df['class']==1].isna().sum()/len(df.index)*100\n",
    "nan_perc.sort_values(ascending=False).head(10)"
   ]
  },
  {
   "cell_type": "code",
   "execution_count": 73,
   "metadata": {},
   "outputs": [],
   "source": [
    "df.drop(columns=['Attr37', 'Attr27', 'Attr21','Attr45', 'Attr60'], inplace=True)"
   ]
  },
  {
   "cell_type": "code",
   "execution_count": 74,
   "metadata": {},
   "outputs": [],
   "source": [
    "df.dropna(inplace=True)"
   ]
  },
  {
   "cell_type": "code",
   "execution_count": 75,
   "metadata": {},
   "outputs": [
    {
     "data": {
      "text/plain": [
       "0    33394\n",
       "1     1564\n",
       "Name: class, dtype: int64"
      ]
     },
     "execution_count": 75,
     "metadata": {},
     "output_type": "execute_result"
    }
   ],
   "source": [
    "df['class'].value_counts()"
   ]
  },
  {
   "cell_type": "code",
   "execution_count": 76,
   "metadata": {},
   "outputs": [],
   "source": [
    "from sklearn import svm\n",
    "from sklearn.model_selection import train_test_split\n",
    "from sklearn import preprocessing"
   ]
  },
  {
   "cell_type": "code",
   "execution_count": 77,
   "metadata": {},
   "outputs": [],
   "source": [
    "X = df.drop('class', axis=1)\n",
    "y = df['class']"
   ]
  },
  {
   "cell_type": "code",
   "execution_count": 78,
   "metadata": {},
   "outputs": [],
   "source": [
    "X_train, X_test, y_train, y_test = train_test_split(X, y, test_size=0.33, random_state=42)"
   ]
  },
  {
   "cell_type": "code",
   "execution_count": 79,
   "metadata": {},
   "outputs": [],
   "source": [
    "X_train_scaled = preprocessing.scale(X_train)\n",
    "X_test_scaled = preprocessing.scale(X_test)"
   ]
  },
  {
   "cell_type": "code",
   "execution_count": 80,
   "metadata": {},
   "outputs": [
    {
     "data": {
      "text/plain": [
       "SVC()"
      ]
     },
     "execution_count": 80,
     "metadata": {},
     "output_type": "execute_result"
    }
   ],
   "source": [
    "clf = svm.SVC()\n",
    "clf.fit(X_train, y_train)"
   ]
  },
  {
   "cell_type": "code",
   "execution_count": null,
   "metadata": {},
   "outputs": [],
   "source": []
  }
 ],
 "metadata": {
  "kernelspec": {
   "display_name": "Python 3",
   "language": "python",
   "name": "python3"
  },
  "language_info": {
   "codemirror_mode": {
    "name": "ipython",
    "version": 3
   },
   "file_extension": ".py",
   "mimetype": "text/x-python",
   "name": "python",
   "nbconvert_exporter": "python",
   "pygments_lexer": "ipython3",
   "version": "3.8.5"
  }
 },
 "nbformat": 4,
 "nbformat_minor": 4
}
