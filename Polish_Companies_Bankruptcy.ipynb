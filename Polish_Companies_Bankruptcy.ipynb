{
 "cells": [
  {
   "cell_type": "markdown",
   "metadata": {},
   "source": [
    "https://archive.ics.uci.edu/ml/datasets/Polish+companies+bankruptcy+data\n"
   ]
  },
  {
   "cell_type": "code",
   "execution_count": 221,
   "metadata": {},
   "outputs": [],
   "source": [
    "import numpy as np\n",
    "import pandas as pd\n",
    "import seaborn as sns\n",
    "import matplotlib.pyplot as plt\n",
    "from scipy.io import arff\n",
    "from sklearn import svm\n",
    "from sklearn.model_selection import train_test_split\n",
    "from sklearn import preprocessing\n",
    "from sklearn.metrics import plot_confusion_matrix\n",
    "from sklearn.utils import resample\n",
    "from itertools import combinations"
   ]
  },
  {
   "cell_type": "markdown",
   "metadata": {},
   "source": [
    "## Loading and exploring the data"
   ]
  },
  {
   "cell_type": "code",
   "execution_count": 222,
   "metadata": {},
   "outputs": [
    {
     "data": {
      "text/html": [
       "<div>\n",
       "<style scoped>\n",
       "    .dataframe tbody tr th:only-of-type {\n",
       "        vertical-align: middle;\n",
       "    }\n",
       "\n",
       "    .dataframe tbody tr th {\n",
       "        vertical-align: top;\n",
       "    }\n",
       "\n",
       "    .dataframe thead th {\n",
       "        text-align: right;\n",
       "    }\n",
       "</style>\n",
       "<table border=\"1\" class=\"dataframe\">\n",
       "  <thead>\n",
       "    <tr style=\"text-align: right;\">\n",
       "      <th></th>\n",
       "      <th>Attr1</th>\n",
       "      <th>Attr2</th>\n",
       "      <th>Attr3</th>\n",
       "      <th>Attr4</th>\n",
       "      <th>Attr5</th>\n",
       "      <th>Attr6</th>\n",
       "      <th>Attr7</th>\n",
       "      <th>Attr8</th>\n",
       "      <th>Attr9</th>\n",
       "      <th>Attr10</th>\n",
       "      <th>...</th>\n",
       "      <th>Attr56</th>\n",
       "      <th>Attr57</th>\n",
       "      <th>Attr58</th>\n",
       "      <th>Attr59</th>\n",
       "      <th>Attr60</th>\n",
       "      <th>Attr61</th>\n",
       "      <th>Attr62</th>\n",
       "      <th>Attr63</th>\n",
       "      <th>Attr64</th>\n",
       "      <th>class</th>\n",
       "    </tr>\n",
       "  </thead>\n",
       "  <tbody>\n",
       "    <tr>\n",
       "      <th>0</th>\n",
       "      <td>0.200550</td>\n",
       "      <td>0.37951</td>\n",
       "      <td>0.396410</td>\n",
       "      <td>2.04720</td>\n",
       "      <td>32.3510</td>\n",
       "      <td>0.38825</td>\n",
       "      <td>0.249760</td>\n",
       "      <td>1.33050</td>\n",
       "      <td>1.13890</td>\n",
       "      <td>0.504940</td>\n",
       "      <td>...</td>\n",
       "      <td>0.121960</td>\n",
       "      <td>0.397180</td>\n",
       "      <td>0.87804</td>\n",
       "      <td>0.001924</td>\n",
       "      <td>8.4160</td>\n",
       "      <td>5.1372</td>\n",
       "      <td>82.658</td>\n",
       "      <td>4.4158</td>\n",
       "      <td>7.42770</td>\n",
       "      <td>b'0'</td>\n",
       "    </tr>\n",
       "    <tr>\n",
       "      <th>1</th>\n",
       "      <td>0.209120</td>\n",
       "      <td>0.49988</td>\n",
       "      <td>0.472250</td>\n",
       "      <td>1.94470</td>\n",
       "      <td>14.7860</td>\n",
       "      <td>0.00000</td>\n",
       "      <td>0.258340</td>\n",
       "      <td>0.99601</td>\n",
       "      <td>1.69960</td>\n",
       "      <td>0.497880</td>\n",
       "      <td>...</td>\n",
       "      <td>0.121300</td>\n",
       "      <td>0.420020</td>\n",
       "      <td>0.85300</td>\n",
       "      <td>0.000000</td>\n",
       "      <td>4.1486</td>\n",
       "      <td>3.2732</td>\n",
       "      <td>107.350</td>\n",
       "      <td>3.4000</td>\n",
       "      <td>60.98700</td>\n",
       "      <td>b'0'</td>\n",
       "    </tr>\n",
       "    <tr>\n",
       "      <th>2</th>\n",
       "      <td>0.248660</td>\n",
       "      <td>0.69592</td>\n",
       "      <td>0.267130</td>\n",
       "      <td>1.55480</td>\n",
       "      <td>-1.1523</td>\n",
       "      <td>0.00000</td>\n",
       "      <td>0.309060</td>\n",
       "      <td>0.43695</td>\n",
       "      <td>1.30900</td>\n",
       "      <td>0.304080</td>\n",
       "      <td>...</td>\n",
       "      <td>0.241140</td>\n",
       "      <td>0.817740</td>\n",
       "      <td>0.76599</td>\n",
       "      <td>0.694840</td>\n",
       "      <td>4.9909</td>\n",
       "      <td>3.9510</td>\n",
       "      <td>134.270</td>\n",
       "      <td>2.7185</td>\n",
       "      <td>5.20780</td>\n",
       "      <td>b'0'</td>\n",
       "    </tr>\n",
       "    <tr>\n",
       "      <th>3</th>\n",
       "      <td>0.081483</td>\n",
       "      <td>0.30734</td>\n",
       "      <td>0.458790</td>\n",
       "      <td>2.49280</td>\n",
       "      <td>51.9520</td>\n",
       "      <td>0.14988</td>\n",
       "      <td>0.092704</td>\n",
       "      <td>1.86610</td>\n",
       "      <td>1.05710</td>\n",
       "      <td>0.573530</td>\n",
       "      <td>...</td>\n",
       "      <td>0.054015</td>\n",
       "      <td>0.142070</td>\n",
       "      <td>0.94598</td>\n",
       "      <td>0.000000</td>\n",
       "      <td>4.5746</td>\n",
       "      <td>3.6147</td>\n",
       "      <td>86.435</td>\n",
       "      <td>4.2228</td>\n",
       "      <td>5.54970</td>\n",
       "      <td>b'0'</td>\n",
       "    </tr>\n",
       "    <tr>\n",
       "      <th>4</th>\n",
       "      <td>0.187320</td>\n",
       "      <td>0.61323</td>\n",
       "      <td>0.229600</td>\n",
       "      <td>1.40630</td>\n",
       "      <td>-7.3128</td>\n",
       "      <td>0.18732</td>\n",
       "      <td>0.187320</td>\n",
       "      <td>0.63070</td>\n",
       "      <td>1.15590</td>\n",
       "      <td>0.386770</td>\n",
       "      <td>...</td>\n",
       "      <td>0.134850</td>\n",
       "      <td>0.484310</td>\n",
       "      <td>0.86515</td>\n",
       "      <td>0.124440</td>\n",
       "      <td>6.3985</td>\n",
       "      <td>4.3158</td>\n",
       "      <td>127.210</td>\n",
       "      <td>2.8692</td>\n",
       "      <td>7.89800</td>\n",
       "      <td>b'0'</td>\n",
       "    </tr>\n",
       "    <tr>\n",
       "      <th>...</th>\n",
       "      <td>...</td>\n",
       "      <td>...</td>\n",
       "      <td>...</td>\n",
       "      <td>...</td>\n",
       "      <td>...</td>\n",
       "      <td>...</td>\n",
       "      <td>...</td>\n",
       "      <td>...</td>\n",
       "      <td>...</td>\n",
       "      <td>...</td>\n",
       "      <td>...</td>\n",
       "      <td>...</td>\n",
       "      <td>...</td>\n",
       "      <td>...</td>\n",
       "      <td>...</td>\n",
       "      <td>...</td>\n",
       "      <td>...</td>\n",
       "      <td>...</td>\n",
       "      <td>...</td>\n",
       "      <td>...</td>\n",
       "      <td>...</td>\n",
       "    </tr>\n",
       "    <tr>\n",
       "      <th>5905</th>\n",
       "      <td>0.012898</td>\n",
       "      <td>0.70621</td>\n",
       "      <td>0.038857</td>\n",
       "      <td>1.17220</td>\n",
       "      <td>-18.9070</td>\n",
       "      <td>0.00000</td>\n",
       "      <td>0.013981</td>\n",
       "      <td>0.41600</td>\n",
       "      <td>1.67680</td>\n",
       "      <td>0.293790</td>\n",
       "      <td>...</td>\n",
       "      <td>0.020169</td>\n",
       "      <td>0.043904</td>\n",
       "      <td>1.01220</td>\n",
       "      <td>1.259400</td>\n",
       "      <td>13.4720</td>\n",
       "      <td>12.4320</td>\n",
       "      <td>49.117</td>\n",
       "      <td>7.4313</td>\n",
       "      <td>2.27990</td>\n",
       "      <td>b'1'</td>\n",
       "    </tr>\n",
       "    <tr>\n",
       "      <th>5906</th>\n",
       "      <td>-0.578050</td>\n",
       "      <td>0.96702</td>\n",
       "      <td>-0.800850</td>\n",
       "      <td>0.16576</td>\n",
       "      <td>-67.3650</td>\n",
       "      <td>-0.57805</td>\n",
       "      <td>-0.578050</td>\n",
       "      <td>-0.40334</td>\n",
       "      <td>0.93979</td>\n",
       "      <td>-0.390040</td>\n",
       "      <td>...</td>\n",
       "      <td>-0.064073</td>\n",
       "      <td>1.482000</td>\n",
       "      <td>1.06410</td>\n",
       "      <td>-0.018084</td>\n",
       "      <td>110.7200</td>\n",
       "      <td>44.7590</td>\n",
       "      <td>81.220</td>\n",
       "      <td>4.4940</td>\n",
       "      <td>5.13050</td>\n",
       "      <td>b'1'</td>\n",
       "    </tr>\n",
       "    <tr>\n",
       "      <th>5907</th>\n",
       "      <td>-0.179050</td>\n",
       "      <td>1.25530</td>\n",
       "      <td>-0.275990</td>\n",
       "      <td>0.74554</td>\n",
       "      <td>-120.4400</td>\n",
       "      <td>-0.17905</td>\n",
       "      <td>-0.154930</td>\n",
       "      <td>-0.26018</td>\n",
       "      <td>1.17490</td>\n",
       "      <td>-0.326590</td>\n",
       "      <td>...</td>\n",
       "      <td>0.148880</td>\n",
       "      <td>0.548240</td>\n",
       "      <td>0.85112</td>\n",
       "      <td>-0.522430</td>\n",
       "      <td>9.8526</td>\n",
       "      <td>3.4892</td>\n",
       "      <td>207.870</td>\n",
       "      <td>1.7559</td>\n",
       "      <td>9.95270</td>\n",
       "      <td>b'1'</td>\n",
       "    </tr>\n",
       "    <tr>\n",
       "      <th>5908</th>\n",
       "      <td>-0.108860</td>\n",
       "      <td>0.74394</td>\n",
       "      <td>0.015449</td>\n",
       "      <td>1.08780</td>\n",
       "      <td>-17.0030</td>\n",
       "      <td>-0.10886</td>\n",
       "      <td>-0.109180</td>\n",
       "      <td>0.12531</td>\n",
       "      <td>0.84516</td>\n",
       "      <td>0.093224</td>\n",
       "      <td>...</td>\n",
       "      <td>-0.183200</td>\n",
       "      <td>-1.167700</td>\n",
       "      <td>1.18320</td>\n",
       "      <td>6.092400</td>\n",
       "      <td>13.8860</td>\n",
       "      <td>6.0769</td>\n",
       "      <td>83.122</td>\n",
       "      <td>4.3911</td>\n",
       "      <td>0.95575</td>\n",
       "      <td>b'1'</td>\n",
       "    </tr>\n",
       "    <tr>\n",
       "      <th>5909</th>\n",
       "      <td>-0.105370</td>\n",
       "      <td>0.53629</td>\n",
       "      <td>-0.045578</td>\n",
       "      <td>0.91478</td>\n",
       "      <td>-56.0680</td>\n",
       "      <td>-0.10537</td>\n",
       "      <td>-0.109940</td>\n",
       "      <td>0.86460</td>\n",
       "      <td>0.95040</td>\n",
       "      <td>0.463670</td>\n",
       "      <td>...</td>\n",
       "      <td>-0.052186</td>\n",
       "      <td>-0.227250</td>\n",
       "      <td>1.05220</td>\n",
       "      <td>0.003196</td>\n",
       "      <td>7.7332</td>\n",
       "      <td>4.7174</td>\n",
       "      <td>136.850</td>\n",
       "      <td>2.6672</td>\n",
       "      <td>2.79270</td>\n",
       "      <td>b'1'</td>\n",
       "    </tr>\n",
       "  </tbody>\n",
       "</table>\n",
       "<p>43405 rows × 65 columns</p>\n",
       "</div>"
      ],
      "text/plain": [
       "         Attr1    Attr2     Attr3    Attr4     Attr5    Attr6     Attr7  \\\n",
       "0     0.200550  0.37951  0.396410  2.04720   32.3510  0.38825  0.249760   \n",
       "1     0.209120  0.49988  0.472250  1.94470   14.7860  0.00000  0.258340   \n",
       "2     0.248660  0.69592  0.267130  1.55480   -1.1523  0.00000  0.309060   \n",
       "3     0.081483  0.30734  0.458790  2.49280   51.9520  0.14988  0.092704   \n",
       "4     0.187320  0.61323  0.229600  1.40630   -7.3128  0.18732  0.187320   \n",
       "...        ...      ...       ...      ...       ...      ...       ...   \n",
       "5905  0.012898  0.70621  0.038857  1.17220  -18.9070  0.00000  0.013981   \n",
       "5906 -0.578050  0.96702 -0.800850  0.16576  -67.3650 -0.57805 -0.578050   \n",
       "5907 -0.179050  1.25530 -0.275990  0.74554 -120.4400 -0.17905 -0.154930   \n",
       "5908 -0.108860  0.74394  0.015449  1.08780  -17.0030 -0.10886 -0.109180   \n",
       "5909 -0.105370  0.53629 -0.045578  0.91478  -56.0680 -0.10537 -0.109940   \n",
       "\n",
       "        Attr8    Attr9    Attr10  ...    Attr56    Attr57   Attr58    Attr59  \\\n",
       "0     1.33050  1.13890  0.504940  ...  0.121960  0.397180  0.87804  0.001924   \n",
       "1     0.99601  1.69960  0.497880  ...  0.121300  0.420020  0.85300  0.000000   \n",
       "2     0.43695  1.30900  0.304080  ...  0.241140  0.817740  0.76599  0.694840   \n",
       "3     1.86610  1.05710  0.573530  ...  0.054015  0.142070  0.94598  0.000000   \n",
       "4     0.63070  1.15590  0.386770  ...  0.134850  0.484310  0.86515  0.124440   \n",
       "...       ...      ...       ...  ...       ...       ...      ...       ...   \n",
       "5905  0.41600  1.67680  0.293790  ...  0.020169  0.043904  1.01220  1.259400   \n",
       "5906 -0.40334  0.93979 -0.390040  ... -0.064073  1.482000  1.06410 -0.018084   \n",
       "5907 -0.26018  1.17490 -0.326590  ...  0.148880  0.548240  0.85112 -0.522430   \n",
       "5908  0.12531  0.84516  0.093224  ... -0.183200 -1.167700  1.18320  6.092400   \n",
       "5909  0.86460  0.95040  0.463670  ... -0.052186 -0.227250  1.05220  0.003196   \n",
       "\n",
       "        Attr60   Attr61   Attr62  Attr63    Attr64  class  \n",
       "0       8.4160   5.1372   82.658  4.4158   7.42770   b'0'  \n",
       "1       4.1486   3.2732  107.350  3.4000  60.98700   b'0'  \n",
       "2       4.9909   3.9510  134.270  2.7185   5.20780   b'0'  \n",
       "3       4.5746   3.6147   86.435  4.2228   5.54970   b'0'  \n",
       "4       6.3985   4.3158  127.210  2.8692   7.89800   b'0'  \n",
       "...        ...      ...      ...     ...       ...    ...  \n",
       "5905   13.4720  12.4320   49.117  7.4313   2.27990   b'1'  \n",
       "5906  110.7200  44.7590   81.220  4.4940   5.13050   b'1'  \n",
       "5907    9.8526   3.4892  207.870  1.7559   9.95270   b'1'  \n",
       "5908   13.8860   6.0769   83.122  4.3911   0.95575   b'1'  \n",
       "5909    7.7332   4.7174  136.850  2.6672   2.79270   b'1'  \n",
       "\n",
       "[43405 rows x 65 columns]"
      ]
     },
     "execution_count": 222,
     "metadata": {},
     "output_type": "execute_result"
    }
   ],
   "source": [
    "data = arff.loadarff('data/1year.arff')\n",
    "df = pd.DataFrame(data[0])\n",
    "\n",
    "data = arff.loadarff('data/2year.arff')\n",
    "df1 = pd.DataFrame(data[0])\n",
    "df = pd.concat([df, df1])\n",
    "\n",
    "data = arff.loadarff('data/3year.arff')\n",
    "df1 = pd.DataFrame(data[0])\n",
    "df = pd.concat([df, df1])\n",
    "\n",
    "data = arff.loadarff('data/4year.arff')\n",
    "df1 = pd.DataFrame(data[0])\n",
    "df = pd.concat([df, df1])\n",
    "\n",
    "data = arff.loadarff('data/5year.arff')\n",
    "df1 = pd.DataFrame(data[0])\n",
    "df = pd.concat([df, df1])\n",
    "\n",
    "df"
   ]
  },
  {
   "cell_type": "markdown",
   "metadata": {},
   "source": [
    "All attributes are of type `float64` as can be seen below."
   ]
  },
  {
   "cell_type": "code",
   "execution_count": 223,
   "metadata": {
    "scrolled": true
   },
   "outputs": [
    {
     "data": {
      "text/plain": [
       "[dtype('float64'),\n",
       " dtype('float64'),\n",
       " dtype('float64'),\n",
       " dtype('float64'),\n",
       " dtype('float64'),\n",
       " dtype('float64'),\n",
       " dtype('float64'),\n",
       " dtype('float64'),\n",
       " dtype('float64'),\n",
       " dtype('float64'),\n",
       " dtype('float64'),\n",
       " dtype('float64'),\n",
       " dtype('float64'),\n",
       " dtype('float64'),\n",
       " dtype('float64'),\n",
       " dtype('float64'),\n",
       " dtype('float64'),\n",
       " dtype('float64'),\n",
       " dtype('float64'),\n",
       " dtype('float64'),\n",
       " dtype('float64'),\n",
       " dtype('float64'),\n",
       " dtype('float64'),\n",
       " dtype('float64'),\n",
       " dtype('float64'),\n",
       " dtype('float64'),\n",
       " dtype('float64'),\n",
       " dtype('float64'),\n",
       " dtype('float64'),\n",
       " dtype('float64'),\n",
       " dtype('float64'),\n",
       " dtype('float64'),\n",
       " dtype('float64'),\n",
       " dtype('float64'),\n",
       " dtype('float64'),\n",
       " dtype('float64'),\n",
       " dtype('float64'),\n",
       " dtype('float64'),\n",
       " dtype('float64'),\n",
       " dtype('float64'),\n",
       " dtype('float64'),\n",
       " dtype('float64'),\n",
       " dtype('float64'),\n",
       " dtype('float64'),\n",
       " dtype('float64'),\n",
       " dtype('float64'),\n",
       " dtype('float64'),\n",
       " dtype('float64'),\n",
       " dtype('float64'),\n",
       " dtype('float64'),\n",
       " dtype('float64'),\n",
       " dtype('float64'),\n",
       " dtype('float64'),\n",
       " dtype('float64'),\n",
       " dtype('float64'),\n",
       " dtype('float64'),\n",
       " dtype('float64'),\n",
       " dtype('float64'),\n",
       " dtype('float64'),\n",
       " dtype('float64'),\n",
       " dtype('float64'),\n",
       " dtype('float64'),\n",
       " dtype('float64'),\n",
       " dtype('float64'),\n",
       " dtype('O')]"
      ]
     },
     "execution_count": 223,
     "metadata": {},
     "output_type": "execute_result"
    }
   ],
   "source": [
    "list(df.dtypes)"
   ]
  },
  {
   "cell_type": "markdown",
   "metadata": {},
   "source": [
    "## Preparing the data"
   ]
  },
  {
   "cell_type": "markdown",
   "metadata": {},
   "source": [
    "Changing the `class` type to int. "
   ]
  },
  {
   "cell_type": "code",
   "execution_count": 224,
   "metadata": {},
   "outputs": [],
   "source": [
    "df['class'] = df['class'].astype('int')"
   ]
  },
  {
   "cell_type": "code",
   "execution_count": 225,
   "metadata": {},
   "outputs": [
    {
     "data": {
      "text/plain": [
       "array([0, 1])"
      ]
     },
     "execution_count": 225,
     "metadata": {},
     "output_type": "execute_result"
    }
   ],
   "source": [
    "df['class'].unique()"
   ]
  },
  {
   "cell_type": "markdown",
   "metadata": {},
   "source": [
    "The dataset is highly imbalanced, as can be seen below. Class 0 has **41314** samples while class 1 has only **2091**."
   ]
  },
  {
   "cell_type": "code",
   "execution_count": 226,
   "metadata": {
    "scrolled": true
   },
   "outputs": [
    {
     "data": {
      "text/plain": [
       "0    41314\n",
       "1     2091\n",
       "Name: class, dtype: int64"
      ]
     },
     "execution_count": 226,
     "metadata": {},
     "output_type": "execute_result"
    }
   ],
   "source": [
    "df['class'].value_counts()"
   ]
  },
  {
   "cell_type": "markdown",
   "metadata": {},
   "source": [
    "Verifying missing data, below, there're attributes missing many values, noticeably **Attr37**."
   ]
  },
  {
   "cell_type": "code",
   "execution_count": 227,
   "metadata": {},
   "outputs": [
    {
     "data": {
      "image/png": "[encoded data removed]",
      "text/plain": [
       "<Figure size 1008x576 with 1 Axes>"
      ]
     },
     "metadata": {
      "needs_background": "light"
     },
     "output_type": "display_data"
    }
   ],
   "source": [
    "plt.figure(figsize=(14,8))\n",
    "sns.heatmap(df.isna(), cbar=False, cmap=\"Blues\").set_title(\"Missing data map\")\n",
    "plt.show()"
   ]
  },
  {
   "cell_type": "markdown",
   "metadata": {},
   "source": [
    "As the dataset is highly imbalanced it'd be interesting to identify from the class with less samples which attributes have more missing values and how much that would be.\n",
    "<br>\n",
    "<br>\n",
    "Percentage of missing values per column for class 1:"
   ]
  },
  {
   "cell_type": "code",
   "execution_count": 228,
   "metadata": {},
   "outputs": [
    {
     "data": {
      "text/plain": [
       "Attr37    2.250893\n",
       "Attr27    1.647276\n",
       "Attr21    1.416887\n",
       "Attr45    0.405483\n",
       "Attr60    0.405483\n",
       "Attr64    0.184311\n",
       "Attr54    0.184311\n",
       "Attr53    0.184311\n",
       "Attr28    0.184311\n",
       "Attr11    0.085244\n",
       "dtype: float64"
      ]
     },
     "execution_count": 228,
     "metadata": {},
     "output_type": "execute_result"
    }
   ],
   "source": [
    "nan_perc = df.loc[df['class']==1].isna().sum()/len(df.index)*100\n",
    "nan_perc.sort_values(ascending=False).head(10)"
   ]
  },
  {
   "cell_type": "markdown",
   "metadata": {},
   "source": [
    "The strategy selected is to drop the attributes related to more missing data for the class 1. That being in a way that the number of samples in class 1 is maximized.\n",
    "<br>\n",
    "For that, the 10 columns with more missing values, for class 1, were selected. "
   ]
  },
  {
   "cell_type": "code",
   "execution_count": 229,
   "metadata": {},
   "outputs": [
    {
     "data": {
      "text/plain": [
       "['Attr37',\n",
       " 'Attr27',\n",
       " 'Attr21',\n",
       " 'Attr45',\n",
       " 'Attr60',\n",
       " 'Attr64',\n",
       " 'Attr54',\n",
       " 'Attr53',\n",
       " 'Attr28',\n",
       " 'Attr11']"
      ]
     },
     "execution_count": 229,
     "metadata": {},
     "output_type": "execute_result"
    }
   ],
   "source": [
    "list_attr = list(nan_perc.sort_values(ascending=False).head(10).index)\n",
    "list_attr"
   ]
  },
  {
   "cell_type": "code",
   "execution_count": 230,
   "metadata": {},
   "outputs": [
    {
     "name": "stdout",
     "output_type": "stream",
     "text": [
      "Class 1 maximum number of samples: 2058\n",
      "Combination of Attributes to achieve the maximum number: ['Attr37', 'Attr27', 'Attr21', 'Attr45', 'Attr60', 'Attr64', 'Attr54', 'Attr53', 'Attr28', 'Attr11']\n"
     ]
    }
   ],
   "source": [
    "max_val_list = 0\n",
    "max_comb = 0\n",
    "\n",
    "for i in range(1, len(list_attr)+1):\n",
    "    comb = combinations(list_attr, i)\n",
    "    for j in list(comb):\n",
    "        df_p = df.copy()\n",
    "        #print(list(j))\n",
    "        df_p.drop(columns=list(j), inplace=True)\n",
    "        \n",
    "        df_p.dropna(inplace=True)\n",
    "        res = df_p['class'].value_counts()[1]\n",
    "        #print(res)\n",
    "        if res > max_val_list:\n",
    "            max_val_list = res\n",
    "            max_comb = list(j)\n",
    "            \n",
    "            \n",
    "print(\"Class 1 maximum number of samples:\", max_val_list)\n",
    "print(\"Combination of Attributes to achieve the maximum number:\", max_comb)"
   ]
  },
  {
   "cell_type": "markdown",
   "metadata": {},
   "source": [
    "A combination of the 10 attributes to be dropped in order to maximize the number of samples for class 1 was found, above, using [combinations](http://www.nabla.hr/CP-PermutCombinatoA.htm#Combinations) \n",
    "<br>\n",
    "<br>\n",
    "The next steps are to drop these attributes and then drop the missing values of the remaining attributes in the dataframe."
   ]
  },
  {
   "cell_type": "code",
   "execution_count": 231,
   "metadata": {},
   "outputs": [],
   "source": [
    "df.drop(columns=max_comb, inplace=True)"
   ]
  },
  {
   "cell_type": "code",
   "execution_count": 232,
   "metadata": {},
   "outputs": [],
   "source": [
    "df.dropna(inplace=True)"
   ]
  },
  {
   "cell_type": "markdown",
   "metadata": {},
   "source": [
    "## SVM (Support Vector Machine)"
   ]
  },
  {
   "cell_type": "markdown",
   "metadata": {},
   "source": [
    "The algorithm chosen to classify the data was SVM, in order to do so the dataset will be downsampled, leaving each category with **1000** samples, and balanced as SVMs works well with small datasets but not necessarily with large ones."
   ]
  },
  {
   "cell_type": "code",
   "execution_count": 234,
   "metadata": {},
   "outputs": [],
   "source": [
    "df_class_1 = df.loc[df['class']==1]\n",
    "df_class_0 = df.loc[df['class']==0]"
   ]
  },
  {
   "cell_type": "code",
   "execution_count": 235,
   "metadata": {},
   "outputs": [],
   "source": [
    "df_class_0_downsampled = resample(df_class_0,\n",
    "                                 replace=False,\n",
    "                                 n_samples=2000)\n",
    "\n",
    "\n",
    "df_class_1_downsampled = resample(df_class_1,\n",
    "                                 replace=False,\n",
    "                                 n_samples=2000)"
   ]
  },
  {
   "cell_type": "markdown",
   "metadata": {},
   "source": [
    "Concatenating the downsampled dataframes."
   ]
  },
  {
   "cell_type": "code",
   "execution_count": 236,
   "metadata": {},
   "outputs": [],
   "source": [
    "df = pd.concat([df_class_1_downsampled, df_class_0_downsampled])"
   ]
  },
  {
   "cell_type": "raw",
   "metadata": {},
   "source": [
    "df = pd.concat([df_class_1, df_class_0_downsampled])"
   ]
  },
  {
   "cell_type": "markdown",
   "metadata": {},
   "source": [
    "Separating the dataset into training and test."
   ]
  },
  {
   "cell_type": "code",
   "execution_count": 237,
   "metadata": {},
   "outputs": [],
   "source": [
    "X = df.drop('class', axis=1)\n",
    "y = df['class']"
   ]
  },
  {
   "cell_type": "code",
   "execution_count": 238,
   "metadata": {},
   "outputs": [],
   "source": [
    "X_train, X_test, y_train, y_test = train_test_split(X, y, test_size=0.33, random_state=42)"
   ]
  },
  {
   "cell_type": "markdown",
   "metadata": {},
   "source": [
    "Scaling the attributes to get better results from training."
   ]
  },
  {
   "cell_type": "code",
   "execution_count": 239,
   "metadata": {},
   "outputs": [],
   "source": [
    "X_train_scaled = preprocessing.scale(X_train)\n",
    "X_test_scaled = preprocessing.scale(X_test)"
   ]
  },
  {
   "cell_type": "code",
   "execution_count": 240,
   "metadata": {},
   "outputs": [
    {
     "data": {
      "text/plain": [
       "SVC()"
      ]
     },
     "execution_count": 240,
     "metadata": {},
     "output_type": "execute_result"
    }
   ],
   "source": [
    "clf = svm.SVC()\n",
    "clf.fit(X_train_scaled, y_train)"
   ]
  },
  {
   "cell_type": "code",
   "execution_count": 241,
   "metadata": {},
   "outputs": [
    {
     "data": {
      "text/plain": [
       "<sklearn.metrics._plot.confusion_matrix.ConfusionMatrixDisplay at 0x7fe4c54c8d30>"
      ]
     },
     "execution_count": 241,
     "metadata": {},
     "output_type": "execute_result"
    },
    {
     "data": {
      "image/png": "[encoded data removed]",
      "text/plain": [
       "<Figure size 432x288 with 2 Axes>"
      ]
     },
     "metadata": {
      "needs_background": "light"
     },
     "output_type": "display_data"
    }
   ],
   "source": [
    "plot_confusion_matrix(clf,\n",
    "                      X_train_scaled,\n",
    "                      y_train)"
   ]
  },
  {
   "cell_type": "code",
   "execution_count": 242,
   "metadata": {},
   "outputs": [
    {
     "data": {
      "text/plain": [
       "<sklearn.metrics._plot.confusion_matrix.ConfusionMatrixDisplay at 0x7fe4c54c6310>"
      ]
     },
     "execution_count": 242,
     "metadata": {},
     "output_type": "execute_result"
    },
    {
     "data": {
      "image/png": "[encoded data removed]",
      "text/plain": [
       "<Figure size 432x288 with 2 Axes>"
      ]
     },
     "metadata": {
      "needs_background": "light"
     },
     "output_type": "display_data"
    }
   ],
   "source": [
    "plot_confusion_matrix(clf,\n",
    "                      X_test_scaled,\n",
    "                      y_test)"
   ]
  },
  {
   "cell_type": "code",
   "execution_count": 243,
   "metadata": {},
   "outputs": [],
   "source": [
    "from sklearn.metrics import precision_score\n",
    "from sklearn.metrics import recall_score\n",
    "from sklearn.metrics import f1_score\n",
    "\n",
    "pred = clf.predict(X_test_scaled)\n",
    "\n",
    "precision = precision_score(y_test, pred)\n",
    "recall = recall_score(y_test, pred)\n",
    "f1score = f1_score(y_test, pred)"
   ]
  },
  {
   "cell_type": "code",
   "execution_count": 244,
   "metadata": {},
   "outputs": [
    {
     "name": "stdout",
     "output_type": "stream",
     "text": [
      "Precision: 0.6967840735068913\n",
      "Recall: 0.6613372093023255\n",
      "F1 Score: 0.6785980611483967\n"
     ]
    }
   ],
   "source": [
    "print('Precision:', precision)\n",
    "print('Recall:', recall)\n",
    "print('F1 Score:', f1score)"
   ]
  },
  {
   "cell_type": "code",
   "execution_count": 220,
   "metadata": {},
   "outputs": [
    {
     "name": "stdout",
     "output_type": "stream",
     "text": [
      "Precision: 0.7058823529411765\n",
      "Recall: 0.6276923076923077\n",
      "F1-Score: 0.6644951140065146\n"
     ]
    }
   ],
   "source": [
    "print('Precision:', precision)\n",
    "print('Recall:', recall)\n",
    "print('F1 Score:', f1score)"
   ]
  },
  {
   "cell_type": "code",
   "execution_count": null,
   "metadata": {},
   "outputs": [],
   "source": []
  },
  {
   "cell_type": "code",
   "execution_count": null,
   "metadata": {},
   "outputs": [],
   "source": []
  }
 ],
 "metadata": {
  "kernelspec": {
   "display_name": "Python 3",
   "language": "python",
   "name": "python3"
  },
  "language_info": {
   "codemirror_mode": {
    "name": "ipython",
    "version": 3
   },
   "file_extension": ".py",
   "mimetype": "text/x-python",
   "name": "python",
   "nbconvert_exporter": "python",
   "pygments_lexer": "ipython3",
   "version": "3.8.5"
  }
 },
 "nbformat": 4,
 "nbformat_minor": 4
}
